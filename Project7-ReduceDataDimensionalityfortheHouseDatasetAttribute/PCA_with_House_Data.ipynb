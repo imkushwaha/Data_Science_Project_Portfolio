{
 "cells": [
  {
   "cell_type": "markdown",
   "metadata": {},
   "source": [
    "## Project:7 Reduce Data Dimensionality for the House Dataset Attribute\n",
    "\n",
    "### Problem Statement \n",
    "\n",
    "When the number of features is very large relative to the number of observations in your dataset, certain algorithms struggle to train effective models.\n",
    "\n",
    "Dimensionality reduction is the process of reducing the number of random variables under consideration, by obtaining a set of principal variables. \n",
    "\n",
    "We are going to use principal component analysis, to reduce the data dimensions for the housing data attributes. \n"
   ]
  },
  {
   "cell_type": "markdown",
   "metadata": {},
   "source": [
    "## Data Description: \n",
    "\n",
    "•\tZoning_Class: Identifies the general zoning classification of the sale \n",
    "\n",
    "•\tBuilding_Class: Identifies the type of dwelling involved in the sale \n",
    "\n",
    "•\tLot_Extent: Linear feet of street connected to property \n",
    "\n",
    "•\tLot_Size: Lot size in square feet \n",
    "\n",
    "•\tRoad_Type: Type of road access to property \n",
    "\n",
    "•\tLane_Type: Type of alley access to property \n",
    "\n",
    "•\tProperty_Shape: General shape of property \n",
    "\n",
    "•\tLand_Outline: Flatness of the property \n",
    "\n",
    "•\tUtility_Type: Type of utilities available \n",
    "\n",
    "•\tLot configuration: Lot configuration \n",
    "\n",
    "•\tProperty_Slope: Slope of property \n",
    "\n",
    "•\tNeighborhood: Physical locations within Ames city limits \n",
    "\n",
    "•\tCondition1: Proximity to various conditions \n",
    "\n",
    "•\tCondition2: Proximity to various conditions (if more than one is present) \n",
    "\n",
    "•\tHouse_Type: Type of dwelling \n",
    "\n",
    "•\tHouse_Design: Style of dwelling \n",
    "\n",
    "•\tOverall_Material: Rates the overall material and finish of the house \n",
    "\n",
    "•\tHouse_Condition: Rates the overall condition of the house \n",
    "\n",
    "•\tConstruction_Year: Original construction date \n",
    "\n",
    "•\tRemodel_Year: Remodel date (same as construction date if no remodeling or additions)\n",
    "\n",
    "•\tRoof_Design: Type of roof \n",
    "\n",
    "•\tRoof_Quality: Roof material \n",
    "\n",
    "•\tExterior1st: Exterior covering on house \n",
    "\n",
    "•\tExterior2nd: Exterior covering on house (if more than one material) \n",
    "\n",
    "•\tBrick_Veneer_Type: Masonry veneer type \n",
    "\n",
    "•\tBrick_Veneer_Area: Masonry veneer area in square feet \n",
    "\n",
    "•\tExterior_Material: Evaluates the quality of the material on the exterior \n",
    "\n",
    "•\tExterior_Condition: Evaluates the present condition of the material on the exterior \n",
    "\n",
    "•\tFoundation_Type: Type of foundation \n",
    "\n",
    "•\tBasement_Height: Evaluates the height of the basement \n",
    "\n",
    "•\tBasement_Condition: Evaluates the general condition of the basement \n",
    "\n",
    "•\tExposure_Level: Refers to walkout or garden level walls \n",
    "\n",
    "•\tBsmtFinType1: Rating of basement finished area \n",
    "\n",
    "•\tBsmtFinSF1: Type 1 finished square feet \n",
    "\n",
    "•\tBsmtFinType2: Rating of basement finished area (if multiple types) \n",
    "\n",
    "•\tBsmtFinSF2: Type 2 finished square feet\n",
    "\n",
    "•\tBsmtUnfSF: Unfinished square feet of basement area \n",
    "\n",
    "•\tTotal_Basement_Area: Total square feet of basement area\n",
    "\n",
    "•\tHeating_Type: Type of heating \n",
    "\n",
    "•\tHeating_Quality: Heating quality and condition\n",
    "\n",
    "•\tAir_Conditioning: Central air conditioning \n",
    "\n",
    "•\tElectrical_System: Electrical system \n",
    "\n",
    "•\tFirst_Floor_Area: First Floor square feet\n",
    "\n",
    "•\tSecond_Floor_Area: Second floor square feet \n",
    "\n",
    "•\tLowQualFinSF: Low quality finished square feet (all floors) \n",
    "\n",
    "•\tGrade_Living_Area: Above grade (ground) living area square feet\n",
    "\n",
    "•\tUnderground_Full_Bathroom: Basement full bathrooms \n",
    "\n",
    "•\tUnderground_Half_Bathroom: Basement half bathrooms \n",
    "\n",
    "•\tFull_Bathroom_Above_Grade: Full bathrooms above grade \n",
    "\n",
    "•\tHalf_Bathroom_Above_Grade: Half baths above grade \n",
    "\n",
    "•\tBedroom: Bedrooms above grade (does NOT include basement bedrooms) \n",
    "\n",
    "•\tKitchen: Kitchens above grade\n",
    "\n",
    "•\tKitchen_Quality: Kitchen quality \n",
    "\n",
    "•\tRooms_Above_Grade: Total rooms above grade (does not include bathrooms) \n",
    "\n",
    "•\tFunctional_Rate: Home functionality (Assume typical unless deductions are warranted)\n",
    "\n",
    "•\tFireplaces: Number of fireplaces \n",
    "\n",
    "•\tFireplace_Quality: quality of fireplaces \n",
    "\n",
    "•\tGarage: Garage location \n",
    "\n",
    "•\tGarage_Built_Year: Year garage was built \n",
    "\n",
    "•\tGarage_Finish_Year: Interior finish of the garage\n",
    "\n",
    "•\tGarage_Size: Size of garage in car capacity \n",
    "\n",
    "•\tGarage_Area: Size of garage in square feet \n",
    "\n",
    "•\tGarage_Quality: Garage quality \n",
    "\n",
    "•\tGarage_Condition: Garage condition \n",
    "\n",
    "•\tPavedd_Drive: Paved driveway \n",
    "\n",
    "•\tW_Deck_Area: Wood deck area in square feet\n",
    "\n",
    "•\tOpen_Lobby_Area: Open porch area in square feet \n",
    "\n",
    "•\tEnclosed_Lobby_Area: Enclosed porch area in square feet \n",
    "\n",
    "•\tThree_Season_Lobby_Area: Three season porch area in square feet\n",
    "\n",
    "•\tScreen_Lobby_Area: Screen porch area in square feet \n",
    "\n",
    "•\tPool_Area: Pool area in square feet \n",
    "\n",
    "•\tPool_Quality: Pool quality \n",
    "\n",
    "•\tFence_Quality: quality of fence \n",
    "\n",
    "•\tMiscellaneous_Feature: Miscellaneous feature not covered in other categories \n",
    "\n",
    "•\tMiscellaneous_Value: $Value of miscellaneous feature \n",
    "\n",
    "•\tMonth_Sold: Month Sold (MM) \n",
    "\n",
    "•\tYear_Sold: Year Sold (YYYY) \n",
    "\n",
    "•\tSale_Type: Type of sale \n",
    "\n",
    "•\tSale_Condition: Condition of sale \n"
   ]
  },
  {
   "cell_type": "markdown",
   "metadata": {},
   "source": [
    "# Loading Important Library"
   ]
  },
  {
   "cell_type": "code",
   "execution_count": 1,
   "metadata": {},
   "outputs": [],
   "source": [
    "import pandas as pd\n",
    "import numpy as np\n",
    "import seaborn as sns\n",
    "import matplotlib.pyplot as plt\n",
    "from scipy.stats import norm\n",
    "from sklearn.preprocessing import StandardScaler\n",
    "from scipy import stats\n",
    "import warnings\n",
    "warnings.filterwarnings('ignore')\n",
    "%matplotlib inline"
   ]
  },
  {
   "cell_type": "markdown",
   "metadata": {},
   "source": [
    "# Check out the dataset"
   ]
  },
  {
   "cell_type": "code",
   "execution_count": 2,
   "metadata": {},
   "outputs": [],
   "source": [
    "#Reading Datasetdf\n",
    "df = pd.read_csv(\"house_price.csv\")"
   ]
  },
  {
   "cell_type": "code",
   "execution_count": 3,
   "metadata": {},
   "outputs": [
    {
     "data": {
      "text/html": [
       "<div>\n",
       "<style scoped>\n",
       "    .dataframe tbody tr th:only-of-type {\n",
       "        vertical-align: middle;\n",
       "    }\n",
       "\n",
       "    .dataframe tbody tr th {\n",
       "        vertical-align: top;\n",
       "    }\n",
       "\n",
       "    .dataframe thead th {\n",
       "        text-align: right;\n",
       "    }\n",
       "</style>\n",
       "<table border=\"1\" class=\"dataframe\">\n",
       "  <thead>\n",
       "    <tr style=\"text-align: right;\">\n",
       "      <th></th>\n",
       "      <th>Id</th>\n",
       "      <th>MSSubClass</th>\n",
       "      <th>MSZoning</th>\n",
       "      <th>LotFrontage</th>\n",
       "      <th>LotArea</th>\n",
       "      <th>Street</th>\n",
       "      <th>Alley</th>\n",
       "      <th>LotShape</th>\n",
       "      <th>LandContour</th>\n",
       "      <th>Utilities</th>\n",
       "      <th>...</th>\n",
       "      <th>PoolArea</th>\n",
       "      <th>PoolQC</th>\n",
       "      <th>Fence</th>\n",
       "      <th>MiscFeature</th>\n",
       "      <th>MiscVal</th>\n",
       "      <th>MoSold</th>\n",
       "      <th>YrSold</th>\n",
       "      <th>SaleType</th>\n",
       "      <th>SaleCondition</th>\n",
       "      <th>SalePrice</th>\n",
       "    </tr>\n",
       "  </thead>\n",
       "  <tbody>\n",
       "    <tr>\n",
       "      <th>0</th>\n",
       "      <td>1</td>\n",
       "      <td>60</td>\n",
       "      <td>RL</td>\n",
       "      <td>65.0</td>\n",
       "      <td>8450</td>\n",
       "      <td>Pave</td>\n",
       "      <td>NaN</td>\n",
       "      <td>Reg</td>\n",
       "      <td>Lvl</td>\n",
       "      <td>AllPub</td>\n",
       "      <td>...</td>\n",
       "      <td>0</td>\n",
       "      <td>NaN</td>\n",
       "      <td>NaN</td>\n",
       "      <td>NaN</td>\n",
       "      <td>0</td>\n",
       "      <td>2</td>\n",
       "      <td>2008</td>\n",
       "      <td>WD</td>\n",
       "      <td>Normal</td>\n",
       "      <td>208500</td>\n",
       "    </tr>\n",
       "    <tr>\n",
       "      <th>1</th>\n",
       "      <td>2</td>\n",
       "      <td>20</td>\n",
       "      <td>RL</td>\n",
       "      <td>80.0</td>\n",
       "      <td>9600</td>\n",
       "      <td>Pave</td>\n",
       "      <td>NaN</td>\n",
       "      <td>Reg</td>\n",
       "      <td>Lvl</td>\n",
       "      <td>AllPub</td>\n",
       "      <td>...</td>\n",
       "      <td>0</td>\n",
       "      <td>NaN</td>\n",
       "      <td>NaN</td>\n",
       "      <td>NaN</td>\n",
       "      <td>0</td>\n",
       "      <td>5</td>\n",
       "      <td>2007</td>\n",
       "      <td>WD</td>\n",
       "      <td>Normal</td>\n",
       "      <td>181500</td>\n",
       "    </tr>\n",
       "    <tr>\n",
       "      <th>2</th>\n",
       "      <td>3</td>\n",
       "      <td>60</td>\n",
       "      <td>RL</td>\n",
       "      <td>68.0</td>\n",
       "      <td>11250</td>\n",
       "      <td>Pave</td>\n",
       "      <td>NaN</td>\n",
       "      <td>IR1</td>\n",
       "      <td>Lvl</td>\n",
       "      <td>AllPub</td>\n",
       "      <td>...</td>\n",
       "      <td>0</td>\n",
       "      <td>NaN</td>\n",
       "      <td>NaN</td>\n",
       "      <td>NaN</td>\n",
       "      <td>0</td>\n",
       "      <td>9</td>\n",
       "      <td>2008</td>\n",
       "      <td>WD</td>\n",
       "      <td>Normal</td>\n",
       "      <td>223500</td>\n",
       "    </tr>\n",
       "    <tr>\n",
       "      <th>3</th>\n",
       "      <td>4</td>\n",
       "      <td>70</td>\n",
       "      <td>RL</td>\n",
       "      <td>60.0</td>\n",
       "      <td>9550</td>\n",
       "      <td>Pave</td>\n",
       "      <td>NaN</td>\n",
       "      <td>IR1</td>\n",
       "      <td>Lvl</td>\n",
       "      <td>AllPub</td>\n",
       "      <td>...</td>\n",
       "      <td>0</td>\n",
       "      <td>NaN</td>\n",
       "      <td>NaN</td>\n",
       "      <td>NaN</td>\n",
       "      <td>0</td>\n",
       "      <td>2</td>\n",
       "      <td>2006</td>\n",
       "      <td>WD</td>\n",
       "      <td>Abnorml</td>\n",
       "      <td>140000</td>\n",
       "    </tr>\n",
       "    <tr>\n",
       "      <th>4</th>\n",
       "      <td>5</td>\n",
       "      <td>60</td>\n",
       "      <td>RL</td>\n",
       "      <td>84.0</td>\n",
       "      <td>14260</td>\n",
       "      <td>Pave</td>\n",
       "      <td>NaN</td>\n",
       "      <td>IR1</td>\n",
       "      <td>Lvl</td>\n",
       "      <td>AllPub</td>\n",
       "      <td>...</td>\n",
       "      <td>0</td>\n",
       "      <td>NaN</td>\n",
       "      <td>NaN</td>\n",
       "      <td>NaN</td>\n",
       "      <td>0</td>\n",
       "      <td>12</td>\n",
       "      <td>2008</td>\n",
       "      <td>WD</td>\n",
       "      <td>Normal</td>\n",
       "      <td>250000</td>\n",
       "    </tr>\n",
       "  </tbody>\n",
       "</table>\n",
       "<p>5 rows × 81 columns</p>\n",
       "</div>"
      ],
      "text/plain": [
       "   Id  MSSubClass MSZoning  LotFrontage  LotArea Street Alley LotShape  \\\n",
       "0   1          60       RL         65.0     8450   Pave   NaN      Reg   \n",
       "1   2          20       RL         80.0     9600   Pave   NaN      Reg   \n",
       "2   3          60       RL         68.0    11250   Pave   NaN      IR1   \n",
       "3   4          70       RL         60.0     9550   Pave   NaN      IR1   \n",
       "4   5          60       RL         84.0    14260   Pave   NaN      IR1   \n",
       "\n",
       "  LandContour Utilities  ... PoolArea PoolQC Fence MiscFeature MiscVal MoSold  \\\n",
       "0         Lvl    AllPub  ...        0    NaN   NaN         NaN       0      2   \n",
       "1         Lvl    AllPub  ...        0    NaN   NaN         NaN       0      5   \n",
       "2         Lvl    AllPub  ...        0    NaN   NaN         NaN       0      9   \n",
       "3         Lvl    AllPub  ...        0    NaN   NaN         NaN       0      2   \n",
       "4         Lvl    AllPub  ...        0    NaN   NaN         NaN       0     12   \n",
       "\n",
       "  YrSold  SaleType  SaleCondition  SalePrice  \n",
       "0   2008        WD         Normal     208500  \n",
       "1   2007        WD         Normal     181500  \n",
       "2   2008        WD         Normal     223500  \n",
       "3   2006        WD        Abnorml     140000  \n",
       "4   2008        WD         Normal     250000  \n",
       "\n",
       "[5 rows x 81 columns]"
      ]
     },
     "execution_count": 3,
     "metadata": {},
     "output_type": "execute_result"
    }
   ],
   "source": [
    "df.head()"
   ]
  },
  {
   "cell_type": "markdown",
   "metadata": {},
   "source": [
    "# Exploratory Data Analysis"
   ]
  },
  {
   "cell_type": "code",
   "execution_count": 4,
   "metadata": {},
   "outputs": [
    {
     "data": {
      "text/plain": [
       "Index(['Id', 'MSSubClass', 'MSZoning', 'LotFrontage', 'LotArea', 'Street',\n",
       "       'Alley', 'LotShape', 'LandContour', 'Utilities', 'LotConfig',\n",
       "       'LandSlope', 'Neighborhood', 'Condition1', 'Condition2', 'BldgType',\n",
       "       'HouseStyle', 'OverallQual', 'OverallCond', 'YearBuilt', 'YearRemodAdd',\n",
       "       'RoofStyle', 'RoofMatl', 'Exterior1st', 'Exterior2nd', 'MasVnrType',\n",
       "       'MasVnrArea', 'ExterQual', 'ExterCond', 'Foundation', 'BsmtQual',\n",
       "       'BsmtCond', 'BsmtExposure', 'BsmtFinType1', 'BsmtFinSF1',\n",
       "       'BsmtFinType2', 'BsmtFinSF2', 'BsmtUnfSF', 'TotalBsmtSF', 'Heating',\n",
       "       'HeatingQC', 'CentralAir', 'Electrical', '1stFlrSF', '2ndFlrSF',\n",
       "       'LowQualFinSF', 'GrLivArea', 'BsmtFullBath', 'BsmtHalfBath', 'FullBath',\n",
       "       'HalfBath', 'BedroomAbvGr', 'KitchenAbvGr', 'KitchenQual',\n",
       "       'TotRmsAbvGrd', 'Functional', 'Fireplaces', 'FireplaceQu', 'GarageType',\n",
       "       'GarageYrBlt', 'GarageFinish', 'GarageCars', 'GarageArea', 'GarageQual',\n",
       "       'GarageCond', 'PavedDrive', 'WoodDeckSF', 'OpenPorchSF',\n",
       "       'EnclosedPorch', '3SsnPorch', 'ScreenPorch', 'PoolArea', 'PoolQC',\n",
       "       'Fence', 'MiscFeature', 'MiscVal', 'MoSold', 'YrSold', 'SaleType',\n",
       "       'SaleCondition', 'SalePrice'],\n",
       "      dtype='object')"
      ]
     },
     "execution_count": 4,
     "metadata": {},
     "output_type": "execute_result"
    }
   ],
   "source": [
    "#Columns of dataset\n",
    "df.columns"
   ]
  },
  {
   "cell_type": "code",
   "execution_count": 5,
   "metadata": {},
   "outputs": [
    {
     "data": {
      "text/plain": [
       "(1460, 81)"
      ]
     },
     "execution_count": 5,
     "metadata": {},
     "output_type": "execute_result"
    }
   ],
   "source": [
    "df.shape"
   ]
  },
  {
   "cell_type": "markdown",
   "metadata": {},
   "source": [
    "House price has 81 columns(79 features + id and target SalePrice) and 1460 entries (number of rows or house sales)"
   ]
  },
  {
   "cell_type": "code",
   "execution_count": 6,
   "metadata": {},
   "outputs": [
    {
     "name": "stdout",
     "output_type": "stream",
     "text": [
      "Number of Numerical features:  38\n",
      "Number of Categorical features:  43\n"
     ]
    }
   ],
   "source": [
    "#Counting numerical variables\n",
    "numerical_var = df.dtypes[df.dtypes != \"object\"].index\n",
    "print(\"Number of Numerical features: \", len(numerical_var))\n",
    "\n",
    "#Counting categorical variables\n",
    "categorical_var = df.dtypes[df.dtypes == \"object\"]\n",
    "print(\"Number of Categorical features: \", len(categorical_var))"
   ]
  },
  {
   "cell_type": "code",
   "execution_count": 7,
   "metadata": {},
   "outputs": [
    {
     "data": {
      "image/png": "[encoded data removed]",
      "text/plain": [
       "<Figure size 1440x864 with 2 Axes>"
      ]
     },
     "metadata": {
      "needs_background": "light"
     },
     "output_type": "display_data"
    }
   ],
   "source": [
    "#filter numeric column only\n",
    "data_num = df[numerical_var]\n",
    "\n",
    "#calculating correlation among numeric variable\n",
    "corr_matrix = data_num.corr()\n",
    "\n",
    "#filter correlation values above 0.5\n",
    "filter_corr = corr_matrix[corr_matrix > 0.5]\n",
    "\n",
    "#plot correlation matrix\n",
    "plt.figure(figsize=(20,12))\n",
    "sns.heatmap(filter_corr,\n",
    "            cmap=\"coolwarm\",\n",
    "            annot=True);"
   ]
  },
  {
   "cell_type": "markdown",
   "metadata": {},
   "source": [
    "Based on the above correlation matrix, correlation among the variables been observed. For example, \"salePrice\" are\n",
    "correlated with \"OverallQual\", \"YearBuilt\", \"YearRemodAdd\", \"TotalBsmt\", \"1stFirSF\", \"GrLivArea\", \"FullBaath\",\n",
    "\"TotRmsAbvGrd\", \"GarageCars\", and \"GarageArea\".\n",
    "\n",
    "It also show the multicollinearity. For example: the correlation betwen GarageCars and GarageArea is very high(0.88)"
   ]
  },
  {
   "cell_type": "markdown",
   "metadata": {},
   "source": [
    "# SalePrice"
   ]
  },
  {
   "cell_type": "code",
   "execution_count": 8,
   "metadata": {},
   "outputs": [
    {
     "data": {
      "image/png": "[encoded data removed]",
      "text/plain": [
       "<Figure size 432x288 with 1 Axes>"
      ]
     },
     "metadata": {
      "needs_background": "light"
     },
     "output_type": "display_data"
    }
   ],
   "source": [
    "sns.distplot(df[\"SalePrice\"])\n",
    "plt.show()"
   ]
  },
  {
   "cell_type": "markdown",
   "metadata": {},
   "source": [
    "From the above result, we can notice that \"SalePrice\" are not normal distribution. It is positively skewed.\n",
    "\n",
    "A few people have very expensive house"
   ]
  },
  {
   "cell_type": "markdown",
   "metadata": {},
   "source": [
    "# Relationship with Numerical variables"
   ]
  },
  {
   "cell_type": "markdown",
   "metadata": {},
   "source": [
    "# Overall Quality"
   ]
  },
  {
   "cell_type": "code",
   "execution_count": 9,
   "metadata": {},
   "outputs": [
    {
     "data": {
      "image/png": "[encoded data removed]",
      "text/plain": [
       "<Figure size 432x288 with 1 Axes>"
      ]
     },
     "metadata": {
      "needs_background": "light"
     },
     "output_type": "display_data"
    }
   ],
   "source": [
    "#Scatter plot OverallQual/SalePrice\n",
    "data = pd.concat([df[\"SalePrice\"], df[\"OverallQual\"]], axis = 1)\n",
    "data.plot.scatter(x=\"OverallQual\", y=\"SalePrice\", ylim=(0,800000));"
   ]
  },
  {
   "cell_type": "markdown",
   "metadata": {},
   "source": [
    "From the above result, We can say that the price of the house will be high when the overall quality of the house is high. We can \n",
    "notice that for the same quality different price. Why? because \"salePrice\" is correlated with other variables and \"OverallQual\" might be\n",
    "correlated with other variables."
   ]
  },
  {
   "cell_type": "markdown",
   "metadata": {},
   "source": [
    "# Year Built"
   ]
  },
  {
   "cell_type": "code",
   "execution_count": 10,
   "metadata": {},
   "outputs": [
    {
     "data": {
      "image/png": "[encoded data removed]",
      "text/plain": [
       "<Figure size 432x288 with 1 Axes>"
      ]
     },
     "metadata": {
      "needs_background": "light"
     },
     "output_type": "display_data"
    }
   ],
   "source": [
    "data = pd.concat([df[\"SalePrice\"], df[\"YearBuilt\"]], axis =1)\n",
    "data.plot.scatter(x=\"YearBuilt\", y=\"SalePrice\", ylim=(0,800000));"
   ]
  },
  {
   "cell_type": "markdown",
   "metadata": {},
   "source": [
    "From the above plot, We can observe that the price of a house is comparatively more than the house was built recently. we\n",
    "also can notice that there are some outliers which means even if the house is too old, the price of the house is moderately high\n",
    "due to influences of other variables."
   ]
  },
  {
   "cell_type": "markdown",
   "metadata": {},
   "source": [
    "# Ground Living Area"
   ]
  },
  {
   "cell_type": "code",
   "execution_count": 11,
   "metadata": {},
   "outputs": [
    {
     "data": {
      "image/png": "[encoded data removed]",
      "text/plain": [
       "<Figure size 432x288 with 1 Axes>"
      ]
     },
     "metadata": {
      "needs_background": "light"
     },
     "output_type": "display_data"
    }
   ],
   "source": [
    "#scatter plot GrLivArea/SalePrice\n",
    "data = pd.concat([df[\"SalePrice\"], df[\"GrLivArea\"]], axis =1)\n",
    "data.plot.scatter(x=\"GrLivArea\", y=\"SalePrice\", ylim=(0,800000));"
   ]
  },
  {
   "cell_type": "markdown",
   "metadata": {},
   "source": [
    "While the size of the ground living area is increasing, the price of the houses is increasing. But even if the ground living area is high, the price of the house is low and when the ground living area is high, the price of the house is too high. Why?.\n",
    "\n",
    "We know the influence of the other variables affects the price change of house.\n",
    "\n",
    "When \"GrLivARea\" of a house is highly correlated with other variables, the price of the house is increasing and when \"GrLivArea\" of a house is not highly correlated with other variables, the price of the house is decreasing."
   ]
  },
  {
   "cell_type": "markdown",
   "metadata": {},
   "source": [
    "# TotalBsmtSF"
   ]
  },
  {
   "cell_type": "code",
   "execution_count": 12,
   "metadata": {},
   "outputs": [
    {
     "data": {
      "image/png": "[encoded data removed]",
      "text/plain": [
       "<Figure size 432x288 with 1 Axes>"
      ]
     },
     "metadata": {
      "needs_background": "light"
     },
     "output_type": "display_data"
    }
   ],
   "source": [
    "data = pd.concat([df[\"SalePrice\"], df[\"TotalBsmtSF\"]], axis =1)\n",
    "data.plot.scatter(x=\"TotalBsmtSF\", y=\"SalePrice\", ylim=(0,800000));"
   ]
  },
  {
   "cell_type": "markdown",
   "metadata": {},
   "source": [
    "We Can notice that \"SalePrice\" and \"TotalBsmtSF\" is with a linear relationship. We can see the value of \"SalePrice\" is going straight when the value of \"TotalBsmtSF\" is 0. Total square feet of basement area of a house is high but the price of the house is low due to influence of other variables."
   ]
  },
  {
   "cell_type": "markdown",
   "metadata": {},
   "source": [
    "# Visualizing Categorical Variables with \"SalePrice\"."
   ]
  },
  {
   "cell_type": "markdown",
   "metadata": {},
   "source": [
    "## House Style"
   ]
  },
  {
   "cell_type": "code",
   "execution_count": 13,
   "metadata": {},
   "outputs": [
    {
     "data": {
      "text/plain": [
       "<AxesSubplot:title={'center':'SalePrice'}, xlabel='HouseStyle'>"
      ]
     },
     "execution_count": 13,
     "metadata": {},
     "output_type": "execute_result"
    },
    {
     "data": {
      "image/png": "[encoded data removed]",
      "text/plain": [
       "<Figure size 576x576 with 1 Axes>"
      ]
     },
     "metadata": {
      "needs_background": "light"
     },
     "output_type": "display_data"
    }
   ],
   "source": [
    "df.boxplot(column=\"SalePrice\", #Column to plot\n",
    "          by=\"HouseStyle\",     #Column to split upon\n",
    "          figsize=(8,8))"
   ]
  },
  {
   "cell_type": "markdown",
   "metadata": {},
   "source": [
    "## Foundation"
   ]
  },
  {
   "cell_type": "code",
   "execution_count": 14,
   "metadata": {},
   "outputs": [
    {
     "data": {
      "text/plain": [
       "<AxesSubplot:title={'center':'SalePrice'}, xlabel='Foundation'>"
      ]
     },
     "execution_count": 14,
     "metadata": {},
     "output_type": "execute_result"
    },
    {
     "data": {
      "image/png": "[encoded data removed]",
      "text/plain": [
       "<Figure size 576x576 with 1 Axes>"
      ]
     },
     "metadata": {
      "needs_background": "light"
     },
     "output_type": "display_data"
    }
   ],
   "source": [
    "df.boxplot(column=\"SalePrice\", #column to plot\n",
    "          by=\"Foundation\",     #column to split upon\n",
    "          figsize=(8,8))"
   ]
  },
  {
   "cell_type": "markdown",
   "metadata": {},
   "source": [
    "From  the above plot, We can observe that if a house has \"Poured Concrete\" foundation , the price of the house is higher than the other house prices."
   ]
  },
  {
   "cell_type": "markdown",
   "metadata": {},
   "source": [
    "## Garage Quality"
   ]
  },
  {
   "cell_type": "code",
   "execution_count": 15,
   "metadata": {},
   "outputs": [
    {
     "data": {
      "text/plain": [
       "<AxesSubplot:title={'center':'SalePrice'}, xlabel='GarageQual'>"
      ]
     },
     "execution_count": 15,
     "metadata": {},
     "output_type": "execute_result"
    },
    {
     "data": {
      "image/png": "[encoded data removed]",
      "text/plain": [
       "<Figure size 576x576 with 1 Axes>"
      ]
     },
     "metadata": {
      "needs_background": "light"
     },
     "output_type": "display_data"
    }
   ],
   "source": [
    "df.boxplot(column = \"SalePrice\",\n",
    "          by=\"GarageQual\",\n",
    "          figsize=(8,8))"
   ]
  },
  {
   "cell_type": "markdown",
   "metadata": {},
   "source": [
    "From the ove plot, We can observe that if a house has a good garage, the price of the house is higher than other huse prices. Some houses have an excellent garage. So the price of this kind of house is higher than all.\n",
    "\n",
    "\n",
    "So far, We have compared some variables with the target variable. We observed that what is the variables impact on target variable based on EDA. If we want to reduce dimension We can take only variables. This is one kind of way.\n",
    "\n",
    "### Now we will use PCA to reduce the dimension of this dataset."
   ]
  },
  {
   "cell_type": "markdown",
   "metadata": {},
   "source": [
    "# Before apply PCA we have to handle missing value."
   ]
  },
  {
   "cell_type": "code",
   "execution_count": 16,
   "metadata": {},
   "outputs": [
    {
     "data": {
      "text/plain": [
       "PoolQC           1453\n",
       "MiscFeature      1406\n",
       "Alley            1369\n",
       "Fence            1179\n",
       "FireplaceQu       690\n",
       "                 ... \n",
       "CentralAir          0\n",
       "SaleCondition       0\n",
       "Heating             0\n",
       "TotalBsmtSF         0\n",
       "Id                  0\n",
       "Length: 81, dtype: int64"
      ]
     },
     "execution_count": 16,
     "metadata": {},
     "output_type": "execute_result"
    }
   ],
   "source": [
    "total_missing_value = df.isnull().sum().sort_values(ascending=False)\n",
    "total_missing_value"
   ]
  },
  {
   "cell_type": "markdown",
   "metadata": {},
   "source": [
    "# Imputing missing values"
   ]
  },
  {
   "cell_type": "markdown",
   "metadata": {},
   "source": [
    "PoolQc: Data description says NA means \"No Pool\". In this data set, it has huge ratio of missing value(99%) and majority of house have no pool all in general."
   ]
  },
  {
   "cell_type": "code",
   "execution_count": 17,
   "metadata": {},
   "outputs": [],
   "source": [
    "df[\"PoolQC\"] = df[\"PoolQC\"].fillna(\"None\")"
   ]
  },
  {
   "cell_type": "markdown",
   "metadata": {},
   "source": [
    "## MiscFeature"
   ]
  },
  {
   "cell_type": "markdown",
   "metadata": {},
   "source": [
    "Data description says NA means \"no misc feature\""
   ]
  },
  {
   "cell_type": "code",
   "execution_count": 18,
   "metadata": {},
   "outputs": [],
   "source": [
    "df[\"MiscFeature\"] = df[\"MiscFeature\"].fillna(\"None\")"
   ]
  },
  {
   "cell_type": "markdown",
   "metadata": {},
   "source": [
    "## Alley"
   ]
  },
  {
   "cell_type": "markdown",
   "metadata": {},
   "source": [
    "Data description says NA means \"no alley access\""
   ]
  },
  {
   "cell_type": "code",
   "execution_count": 19,
   "metadata": {},
   "outputs": [],
   "source": [
    "df[\"Alley\"] = df[\"Alley\"].fillna(\"None\")"
   ]
  },
  {
   "cell_type": "markdown",
   "metadata": {},
   "source": [
    "## Fence"
   ]
  },
  {
   "cell_type": "code",
   "execution_count": 20,
   "metadata": {},
   "outputs": [],
   "source": [
    "df[\"fence\"] = df[\"Fence\"].fillna(\"None\")"
   ]
  },
  {
   "cell_type": "markdown",
   "metadata": {},
   "source": [
    "## FireplaceQu"
   ]
  },
  {
   "cell_type": "code",
   "execution_count": 21,
   "metadata": {},
   "outputs": [],
   "source": [
    "df[\"FireplaceQu\"] = df[\"FireplaceQu\"].fillna(\"None\")"
   ]
  },
  {
   "cell_type": "markdown",
   "metadata": {},
   "source": [
    "## LotFrontage"
   ]
  },
  {
   "cell_type": "markdown",
   "metadata": {},
   "source": [
    "The area of each street connected to the house property most likely have a similar area to other houses in its neughborhood. so we can fill in missing values by the median LotFrontage of the neighborhood."
   ]
  },
  {
   "cell_type": "code",
   "execution_count": 22,
   "metadata": {},
   "outputs": [],
   "source": [
    "df[\"LotFrontage\"] = df.groupby(\"Neighborhood\")[\"LotFrontage\"].transform(lambda x: x.fillna(x.median()))"
   ]
  },
  {
   "cell_type": "markdown",
   "metadata": {},
   "source": [
    "### GarageType, GarageFinish, GarageQual and GarageCond : Replacing missing data with None"
   ]
  },
  {
   "cell_type": "code",
   "execution_count": 23,
   "metadata": {},
   "outputs": [],
   "source": [
    "for i in (\"GarageType\", \"GarageFinish\", \"GarageQual\", \"GarageCond\"):\n",
    "    df[i] = df[i].fillna(\"None\")"
   ]
  },
  {
   "cell_type": "markdown",
   "metadata": {},
   "source": [
    "### GarageYrBlt, GarageArea and GarageCars : Replacing missing data with 0 (Since No garage = No cars in such garage.)"
   ]
  },
  {
   "cell_type": "code",
   "execution_count": 24,
   "metadata": {},
   "outputs": [],
   "source": [
    "for i in (\"GarageYrBlt\", \"GarageArea\", \"GarageCars\"):\n",
    "    df[i] = df[i].fillna(0)"
   ]
  },
  {
   "cell_type": "markdown",
   "metadata": {},
   "source": [
    "BsmtFinSF1, BsmtFinSF2, BsmtUnfSF, TotalBsmtSF, BsmtFullBath and BsmtHalfBath : missing values are likely zero for having no basement.\n",
    "\n",
    "for i in (\"BsmtFinSF1\", \"BsmtFinSF2\", \"BsmtUnfSF\", \"TotalBsmtSF\", \"BsmtFullBath\", \"BsmtHalfBath\") :\n",
    "df[i] = df[i].fillna(0)\n",
    "\n",
    "#### BsmtQual, BsmtCond, BsmtExposure, BsmtFinType1 and BsmtFinType2 : For all these categorical basement-related features, NaN means that there is no basement.    \n",
    "    "
   ]
  },
  {
   "cell_type": "code",
   "execution_count": 25,
   "metadata": {},
   "outputs": [],
   "source": [
    "for i in (\"BsmtQual\", \"BsmtCond\", \"BsmtExposure\", \"BsmtFinType1\", \"BsmtFinType2\"):\n",
    "    df[i] = df[i].fillna(\"None\")"
   ]
  },
  {
   "cell_type": "markdown",
   "metadata": {},
   "source": [
    "#### MasVnrArea and MasVnType : NA most likely means no masonry veneer for these houses. We can fill 0 for the area and None for the type."
   ]
  },
  {
   "cell_type": "code",
   "execution_count": 26,
   "metadata": {},
   "outputs": [],
   "source": [
    "df[\"MasVnrType\"] = df[\"MasVnrType\"].fillna(\"None\")\n",
    "df[\"MasVnrArea\"] = df[\"MasVnrType\"].fillna(0)"
   ]
  },
  {
   "cell_type": "markdown",
   "metadata": {},
   "source": [
    "#### MSZoning(The general zoning classification) : \"RL\" is by far the most common value. So we can fill in missing values with \"RL\" "
   ]
  },
  {
   "cell_type": "code",
   "execution_count": 27,
   "metadata": {},
   "outputs": [],
   "source": [
    "df[\"MSZoning\"] = df[\"MSZoning\"].fillna(df[\"MSZoning\"].mode()[0])"
   ]
  },
  {
   "cell_type": "markdown",
   "metadata": {},
   "source": [
    "#### Utilites : For this categorical feature all records are \"AllPub\", except for one \"NoSeWa\" and 2 NA. Since the house with \"NoSewa\" is in the training set, this feature won't help in predictive modelling. We can then safely remove it."
   ]
  },
  {
   "cell_type": "code",
   "execution_count": 28,
   "metadata": {},
   "outputs": [],
   "source": [
    "df = df.drop([\"Utilities\"], axis = 1)"
   ]
  },
  {
   "cell_type": "markdown",
   "metadata": {},
   "source": [
    "#### Functional : Data Description says NA means typical"
   ]
  },
  {
   "cell_type": "code",
   "execution_count": 29,
   "metadata": {},
   "outputs": [],
   "source": [
    "df[\"Functional\"] = df[\"Functional\"].fillna(\"Typ\")"
   ]
  },
  {
   "cell_type": "markdown",
   "metadata": {},
   "source": [
    "#### Electrical : It has one NA value. Since this feature has mostly \"SBrkr\", we can set that for the missing value"
   ]
  },
  {
   "cell_type": "code",
   "execution_count": 30,
   "metadata": {},
   "outputs": [],
   "source": [
    "df[\"Electrical\"] = df[\"Electrical\"].fillna(df[\"Electrical\"].mode()[0])"
   ]
  },
  {
   "cell_type": "markdown",
   "metadata": {},
   "source": [
    "#### KitchenQual : Only one NA value, and same as Electrical, we set \"TA\"(which is the most frequent) for the missing value in KitchenQual."
   ]
  },
  {
   "cell_type": "code",
   "execution_count": 31,
   "metadata": {},
   "outputs": [],
   "source": [
    "df[\"KitchenQual\"] = df[\"KitchenQual\"].fillna(df[\"KitchenQual\"].mode()[0])"
   ]
  },
  {
   "cell_type": "markdown",
   "metadata": {},
   "source": [
    "#### Exterior1st and Exterior2nd : Again Both Exterior 1 & 2 have only on emisssing value. We will just substitute in the most common string."
   ]
  },
  {
   "cell_type": "code",
   "execution_count": 32,
   "metadata": {},
   "outputs": [],
   "source": [
    "df[\"Exterior1st\"] = df[\"Exterior1st\"].fillna(df[\"Exterior1st\"].mode()[0])\n",
    "df[\"Exterior2nd\"] = df[\"Exterior2nd\"].fillna(df[\"Exterior2nd\"].mode()[0])"
   ]
  },
  {
   "cell_type": "markdown",
   "metadata": {},
   "source": [
    "#### SaleType : Fill in again with most frequent which is \"WD\""
   ]
  },
  {
   "cell_type": "code",
   "execution_count": 33,
   "metadata": {},
   "outputs": [],
   "source": [
    "df[\"SaleType\"] = df[\"SaleType\"].fillna(df[\"SaleType\"].mode()[0])"
   ]
  },
  {
   "cell_type": "markdown",
   "metadata": {},
   "source": [
    "#### MSSubClass : NA most likely means No building class. We can replace missing values with None"
   ]
  },
  {
   "cell_type": "code",
   "execution_count": 33,
   "metadata": {},
   "outputs": [],
   "source": [
    "df[\"MSSubClass\"] = df[\"MSSubClass\"].fillna(\"None\")"
   ]
  },
  {
   "cell_type": "code",
   "execution_count": 34,
   "metadata": {},
   "outputs": [],
   "source": [
    "categorical_var = df.dtypes[df.dtypes == \"object\"]"
   ]
  },
  {
   "cell_type": "markdown",
   "metadata": {},
   "source": [
    "## Transforming Some numerical variables that are really categorical"
   ]
  },
  {
   "cell_type": "code",
   "execution_count": 35,
   "metadata": {},
   "outputs": [
    {
     "data": {
      "text/plain": [
       "dtype('int64')"
      ]
     },
     "execution_count": 35,
     "metadata": {},
     "output_type": "execute_result"
    }
   ],
   "source": [
    "df[\"OverallCond\"].dtype"
   ]
  },
  {
   "cell_type": "markdown",
   "metadata": {},
   "source": [
    "If we take the variable \"OverallCond\" which rates the overall condition of the house. So value of this coulmn is from 1 to 10.\n",
    "\n",
    "              10 Very Excellent\n",
    "              9  Excellent\n",
    "              8  Very Good\n",
    "              7  Good\n",
    "              6  Above Average\n",
    "              5  Average\n",
    "              4  Below Average\n",
    "              3  Fair\n",
    "              2  Poor\n",
    "              1  Very Poor\n",
    "              \n",
    "         The datatype of this column is in \"int64\", but is should be in categorical.   "
   ]
  },
  {
   "cell_type": "code",
   "execution_count": 36,
   "metadata": {},
   "outputs": [],
   "source": [
    "#Changing OverallCond into a categorical variable\n",
    "df[\"OverallCond\"] = df[\"OverallCond\"].astype(str)"
   ]
  },
  {
   "cell_type": "code",
   "execution_count": 37,
   "metadata": {},
   "outputs": [],
   "source": [
    "#MSSubClass = The building class\n",
    "df[\"MSSubClass\"] = df[\"MSSubClass\"].apply(str)"
   ]
  },
  {
   "cell_type": "code",
   "execution_count": 38,
   "metadata": {},
   "outputs": [],
   "source": [
    "#Year and month sold are transformed into categorical features.\n",
    "df[\"YrSold\"] = df[\"YrSold\"].astype(str)\n",
    "df[\"MoSold\"] = df[\"MoSold\"].astype(str)"
   ]
  },
  {
   "cell_type": "markdown",
   "metadata": {},
   "source": [
    "## Label Encoding to some Categorical variables that may contain information in their ordering set"
   ]
  },
  {
   "cell_type": "code",
   "execution_count": 39,
   "metadata": {},
   "outputs": [],
   "source": [
    "from sklearn.preprocessing import LabelEncoder\n",
    "cols = ('FireplaceQu', 'BsmtQual', 'BsmtCond', 'GarageQual', 'GarageCond', \n",
    "        'ExterQual', 'ExterCond','HeatingQC', 'PoolQC', 'KitchenQual', 'BsmtFinType1', \n",
    "        'BsmtFinType2', 'Functional', 'Fence', 'BsmtExposure', 'GarageFinish', 'LandSlope',\n",
    "        'LotShape', 'PavedDrive', 'Street', 'Alley', 'CentralAir', 'MSSubClass', 'OverallCond', \n",
    "        'YrSold', 'MoSold')"
   ]
  },
  {
   "cell_type": "code",
   "execution_count": 40,
   "metadata": {},
   "outputs": [],
   "source": [
    "#Process columns, apply LabelEncoder to categorical features\n",
    "for c in cols:\n",
    "    label_ec = LabelEncoder()\n",
    "    label_ec.fit(list(df[c].values))\n",
    "    df[c] = label_ec.transform(list(df[c].values))df"
   ]
  },
  {
   "cell_type": "code",
   "execution_count": 41,
   "metadata": {},
   "outputs": [
    {
     "data": {
      "text/html": [
       "<div>\n",
       "<style scoped>\n",
       "    .dataframe tbody tr th:only-of-type {\n",
       "        vertical-align: middle;\n",
       "    }\n",
       "\n",
       "    .dataframe tbody tr th {\n",
       "        vertical-align: top;\n",
       "    }\n",
       "\n",
       "    .dataframe thead th {\n",
       "        text-align: right;\n",
       "    }\n",
       "</style>\n",
       "<table border=\"1\" class=\"dataframe\">\n",
       "  <thead>\n",
       "    <tr style=\"text-align: right;\">\n",
       "      <th></th>\n",
       "      <th>Id</th>\n",
       "      <th>MSSubClass</th>\n",
       "      <th>MSZoning</th>\n",
       "      <th>LotFrontage</th>\n",
       "      <th>LotArea</th>\n",
       "      <th>Street</th>\n",
       "      <th>Alley</th>\n",
       "      <th>LotShape</th>\n",
       "      <th>LandContour</th>\n",
       "      <th>LotConfig</th>\n",
       "      <th>...</th>\n",
       "      <th>PoolQC</th>\n",
       "      <th>Fence</th>\n",
       "      <th>MiscFeature</th>\n",
       "      <th>MiscVal</th>\n",
       "      <th>MoSold</th>\n",
       "      <th>YrSold</th>\n",
       "      <th>SaleType</th>\n",
       "      <th>SaleCondition</th>\n",
       "      <th>SalePrice</th>\n",
       "      <th>fence</th>\n",
       "    </tr>\n",
       "  </thead>\n",
       "  <tbody>\n",
       "    <tr>\n",
       "      <th>0</th>\n",
       "      <td>1</td>\n",
       "      <td>9</td>\n",
       "      <td>RL</td>\n",
       "      <td>65.0</td>\n",
       "      <td>8450</td>\n",
       "      <td>1</td>\n",
       "      <td>1</td>\n",
       "      <td>3</td>\n",
       "      <td>Lvl</td>\n",
       "      <td>Inside</td>\n",
       "      <td>...</td>\n",
       "      <td>3</td>\n",
       "      <td>4</td>\n",
       "      <td>None</td>\n",
       "      <td>0</td>\n",
       "      <td>4</td>\n",
       "      <td>2</td>\n",
       "      <td>WD</td>\n",
       "      <td>Normal</td>\n",
       "      <td>208500</td>\n",
       "      <td>None</td>\n",
       "    </tr>\n",
       "    <tr>\n",
       "      <th>1</th>\n",
       "      <td>2</td>\n",
       "      <td>4</td>\n",
       "      <td>RL</td>\n",
       "      <td>80.0</td>\n",
       "      <td>9600</td>\n",
       "      <td>1</td>\n",
       "      <td>1</td>\n",
       "      <td>3</td>\n",
       "      <td>Lvl</td>\n",
       "      <td>FR2</td>\n",
       "      <td>...</td>\n",
       "      <td>3</td>\n",
       "      <td>4</td>\n",
       "      <td>None</td>\n",
       "      <td>0</td>\n",
       "      <td>7</td>\n",
       "      <td>1</td>\n",
       "      <td>WD</td>\n",
       "      <td>Normal</td>\n",
       "      <td>181500</td>\n",
       "      <td>None</td>\n",
       "    </tr>\n",
       "    <tr>\n",
       "      <th>2</th>\n",
       "      <td>3</td>\n",
       "      <td>9</td>\n",
       "      <td>RL</td>\n",
       "      <td>68.0</td>\n",
       "      <td>11250</td>\n",
       "      <td>1</td>\n",
       "      <td>1</td>\n",
       "      <td>0</td>\n",
       "      <td>Lvl</td>\n",
       "      <td>Inside</td>\n",
       "      <td>...</td>\n",
       "      <td>3</td>\n",
       "      <td>4</td>\n",
       "      <td>None</td>\n",
       "      <td>0</td>\n",
       "      <td>11</td>\n",
       "      <td>2</td>\n",
       "      <td>WD</td>\n",
       "      <td>Normal</td>\n",
       "      <td>223500</td>\n",
       "      <td>None</td>\n",
       "    </tr>\n",
       "    <tr>\n",
       "      <th>3</th>\n",
       "      <td>4</td>\n",
       "      <td>10</td>\n",
       "      <td>RL</td>\n",
       "      <td>60.0</td>\n",
       "      <td>9550</td>\n",
       "      <td>1</td>\n",
       "      <td>1</td>\n",
       "      <td>0</td>\n",
       "      <td>Lvl</td>\n",
       "      <td>Corner</td>\n",
       "      <td>...</td>\n",
       "      <td>3</td>\n",
       "      <td>4</td>\n",
       "      <td>None</td>\n",
       "      <td>0</td>\n",
       "      <td>4</td>\n",
       "      <td>0</td>\n",
       "      <td>WD</td>\n",
       "      <td>Abnorml</td>\n",
       "      <td>140000</td>\n",
       "      <td>None</td>\n",
       "    </tr>\n",
       "    <tr>\n",
       "      <th>4</th>\n",
       "      <td>5</td>\n",
       "      <td>9</td>\n",
       "      <td>RL</td>\n",
       "      <td>84.0</td>\n",
       "      <td>14260</td>\n",
       "      <td>1</td>\n",
       "      <td>1</td>\n",
       "      <td>0</td>\n",
       "      <td>Lvl</td>\n",
       "      <td>FR2</td>\n",
       "      <td>...</td>\n",
       "      <td>3</td>\n",
       "      <td>4</td>\n",
       "      <td>None</td>\n",
       "      <td>0</td>\n",
       "      <td>3</td>\n",
       "      <td>2</td>\n",
       "      <td>WD</td>\n",
       "      <td>Normal</td>\n",
       "      <td>250000</td>\n",
       "      <td>None</td>\n",
       "    </tr>\n",
       "  </tbody>\n",
       "</table>\n",
       "<p>5 rows × 81 columns</p>\n",
       "</div>"
      ],
      "text/plain": [
       "   Id  MSSubClass MSZoning  LotFrontage  LotArea  Street  Alley  LotShape  \\\n",
       "0   1           9       RL         65.0     8450       1      1         3   \n",
       "1   2           4       RL         80.0     9600       1      1         3   \n",
       "2   3           9       RL         68.0    11250       1      1         0   \n",
       "3   4          10       RL         60.0     9550       1      1         0   \n",
       "4   5           9       RL         84.0    14260       1      1         0   \n",
       "\n",
       "  LandContour LotConfig  ...  PoolQC Fence MiscFeature MiscVal MoSold YrSold  \\\n",
       "0         Lvl    Inside  ...       3     4        None       0      4      2   \n",
       "1         Lvl       FR2  ...       3     4        None       0      7      1   \n",
       "2         Lvl    Inside  ...       3     4        None       0     11      2   \n",
       "3         Lvl    Corner  ...       3     4        None       0      4      0   \n",
       "4         Lvl       FR2  ...       3     4        None       0      3      2   \n",
       "\n",
       "   SaleType  SaleCondition  SalePrice  fence  \n",
       "0        WD         Normal     208500   None  \n",
       "1        WD         Normal     181500   None  \n",
       "2        WD         Normal     223500   None  \n",
       "3        WD        Abnorml     140000   None  \n",
       "4        WD         Normal     250000   None  \n",
       "\n",
       "[5 rows x 81 columns]"
      ]
     },
     "execution_count": 41,
     "metadata": {},
     "output_type": "execute_result"
    }
   ],
   "source": [
    "df.head()"
   ]
  },
  {
   "cell_type": "code",
   "execution_count": 42,
   "metadata": {},
   "outputs": [
    {
     "name": "stdout",
     "output_type": "stream",
     "text": [
      "(1460, 230)\n"
     ]
    }
   ],
   "source": [
    "df = pd.get_dummies(df)\n",
    "print(df.shape)"
   ]
  },
  {
   "cell_type": "code",
   "execution_count": 43,
   "metadata": {},
   "outputs": [
    {
     "data": {
      "text/html": [
       "<div>\n",
       "<style scoped>\n",
       "    .dataframe tbody tr th:only-of-type {\n",
       "        vertical-align: middle;\n",
       "    }\n",
       "\n",
       "    .dataframe tbody tr th {\n",
       "        vertical-align: top;\n",
       "    }\n",
       "\n",
       "    .dataframe thead th {\n",
       "        text-align: right;\n",
       "    }\n",
       "</style>\n",
       "<table border=\"1\" class=\"dataframe\">\n",
       "  <thead>\n",
       "    <tr style=\"text-align: right;\">\n",
       "      <th></th>\n",
       "      <th>Id</th>\n",
       "      <th>MSSubClass</th>\n",
       "      <th>LotFrontage</th>\n",
       "      <th>LotArea</th>\n",
       "      <th>Street</th>\n",
       "      <th>Alley</th>\n",
       "      <th>LotShape</th>\n",
       "      <th>LandSlope</th>\n",
       "      <th>OverallQual</th>\n",
       "      <th>OverallCond</th>\n",
       "      <th>...</th>\n",
       "      <th>SaleCondition_AdjLand</th>\n",
       "      <th>SaleCondition_Alloca</th>\n",
       "      <th>SaleCondition_Family</th>\n",
       "      <th>SaleCondition_Normal</th>\n",
       "      <th>SaleCondition_Partial</th>\n",
       "      <th>fence_GdPrv</th>\n",
       "      <th>fence_GdWo</th>\n",
       "      <th>fence_MnPrv</th>\n",
       "      <th>fence_MnWw</th>\n",
       "      <th>fence_None</th>\n",
       "    </tr>\n",
       "  </thead>\n",
       "  <tbody>\n",
       "    <tr>\n",
       "      <th>0</th>\n",
       "      <td>1</td>\n",
       "      <td>9</td>\n",
       "      <td>65.0</td>\n",
       "      <td>8450</td>\n",
       "      <td>1</td>\n",
       "      <td>1</td>\n",
       "      <td>3</td>\n",
       "      <td>0</td>\n",
       "      <td>7</td>\n",
       "      <td>4</td>\n",
       "      <td>...</td>\n",
       "      <td>0</td>\n",
       "      <td>0</td>\n",
       "      <td>0</td>\n",
       "      <td>1</td>\n",
       "      <td>0</td>\n",
       "      <td>0</td>\n",
       "      <td>0</td>\n",
       "      <td>0</td>\n",
       "      <td>0</td>\n",
       "      <td>1</td>\n",
       "    </tr>\n",
       "    <tr>\n",
       "      <th>1</th>\n",
       "      <td>2</td>\n",
       "      <td>4</td>\n",
       "      <td>80.0</td>\n",
       "      <td>9600</td>\n",
       "      <td>1</td>\n",
       "      <td>1</td>\n",
       "      <td>3</td>\n",
       "      <td>0</td>\n",
       "      <td>6</td>\n",
       "      <td>7</td>\n",
       "      <td>...</td>\n",
       "      <td>0</td>\n",
       "      <td>0</td>\n",
       "      <td>0</td>\n",
       "      <td>1</td>\n",
       "      <td>0</td>\n",
       "      <td>0</td>\n",
       "      <td>0</td>\n",
       "      <td>0</td>\n",
       "      <td>0</td>\n",
       "      <td>1</td>\n",
       "    </tr>\n",
       "    <tr>\n",
       "      <th>2</th>\n",
       "      <td>3</td>\n",
       "      <td>9</td>\n",
       "      <td>68.0</td>\n",
       "      <td>11250</td>\n",
       "      <td>1</td>\n",
       "      <td>1</td>\n",
       "      <td>0</td>\n",
       "      <td>0</td>\n",
       "      <td>7</td>\n",
       "      <td>4</td>\n",
       "      <td>...</td>\n",
       "      <td>0</td>\n",
       "      <td>0</td>\n",
       "      <td>0</td>\n",
       "      <td>1</td>\n",
       "      <td>0</td>\n",
       "      <td>0</td>\n",
       "      <td>0</td>\n",
       "      <td>0</td>\n",
       "      <td>0</td>\n",
       "      <td>1</td>\n",
       "    </tr>\n",
       "    <tr>\n",
       "      <th>3</th>\n",
       "      <td>4</td>\n",
       "      <td>10</td>\n",
       "      <td>60.0</td>\n",
       "      <td>9550</td>\n",
       "      <td>1</td>\n",
       "      <td>1</td>\n",
       "      <td>0</td>\n",
       "      <td>0</td>\n",
       "      <td>7</td>\n",
       "      <td>4</td>\n",
       "      <td>...</td>\n",
       "      <td>0</td>\n",
       "      <td>0</td>\n",
       "      <td>0</td>\n",
       "      <td>0</td>\n",
       "      <td>0</td>\n",
       "      <td>0</td>\n",
       "      <td>0</td>\n",
       "      <td>0</td>\n",
       "      <td>0</td>\n",
       "      <td>1</td>\n",
       "    </tr>\n",
       "    <tr>\n",
       "      <th>4</th>\n",
       "      <td>5</td>\n",
       "      <td>9</td>\n",
       "      <td>84.0</td>\n",
       "      <td>14260</td>\n",
       "      <td>1</td>\n",
       "      <td>1</td>\n",
       "      <td>0</td>\n",
       "      <td>0</td>\n",
       "      <td>8</td>\n",
       "      <td>4</td>\n",
       "      <td>...</td>\n",
       "      <td>0</td>\n",
       "      <td>0</td>\n",
       "      <td>0</td>\n",
       "      <td>1</td>\n",
       "      <td>0</td>\n",
       "      <td>0</td>\n",
       "      <td>0</td>\n",
       "      <td>0</td>\n",
       "      <td>0</td>\n",
       "      <td>1</td>\n",
       "    </tr>\n",
       "  </tbody>\n",
       "</table>\n",
       "<p>5 rows × 230 columns</p>\n",
       "</div>"
      ],
      "text/plain": [
       "   Id  MSSubClass  LotFrontage  LotArea  Street  Alley  LotShape  LandSlope  \\\n",
       "0   1           9         65.0     8450       1      1         3          0   \n",
       "1   2           4         80.0     9600       1      1         3          0   \n",
       "2   3           9         68.0    11250       1      1         0          0   \n",
       "3   4          10         60.0     9550       1      1         0          0   \n",
       "4   5           9         84.0    14260       1      1         0          0   \n",
       "\n",
       "   OverallQual  OverallCond  ...  SaleCondition_AdjLand  SaleCondition_Alloca  \\\n",
       "0            7            4  ...                      0                     0   \n",
       "1            6            7  ...                      0                     0   \n",
       "2            7            4  ...                      0                     0   \n",
       "3            7            4  ...                      0                     0   \n",
       "4            8            4  ...                      0                     0   \n",
       "\n",
       "   SaleCondition_Family  SaleCondition_Normal  SaleCondition_Partial  \\\n",
       "0                     0                     1                      0   \n",
       "1                     0                     1                      0   \n",
       "2                     0                     1                      0   \n",
       "3                     0                     0                      0   \n",
       "4                     0                     1                      0   \n",
       "\n",
       "   fence_GdPrv  fence_GdWo  fence_MnPrv  fence_MnWw  fence_None  \n",
       "0            0           0            0           0           1  \n",
       "1            0           0            0           0           1  \n",
       "2            0           0            0           0           1  \n",
       "3            0           0            0           0           1  \n",
       "4            0           0            0           0           1  \n",
       "\n",
       "[5 rows x 230 columns]"
      ]
     },
     "execution_count": 43,
     "metadata": {},
     "output_type": "execute_result"
    }
   ],
   "source": [
    "df.head()"
   ]
  },
  {
   "cell_type": "markdown",
   "metadata": {},
   "source": [
    "# Remove Target Variable"
   ]
  },
  {
   "cell_type": "code",
   "execution_count": 44,
   "metadata": {},
   "outputs": [],
   "source": [
    "x = df.drop(\"SalePrice\", axis=1)"
   ]
  },
  {
   "cell_type": "markdown",
   "metadata": {},
   "source": [
    "# Standardizing input variables"
   ]
  },
  {
   "cell_type": "code",
   "execution_count": 45,
   "metadata": {},
   "outputs": [],
   "source": [
    "from sklearn.preprocessing import StandardScaler\n",
    "import numpy as np\n",
    "\n",
    "#Standardized the dataset\n",
    "\n",
    "sc_x= StandardScaler()\n",
    "x_std = sc_x.fit_transform(x)"
   ]
  },
  {
   "cell_type": "markdown",
   "metadata": {},
   "source": [
    "### PCA from scratch using pyhon"
   ]
  },
  {
   "cell_type": "markdown",
   "metadata": {},
   "source": [
    "# 1. Computing the mean vector"
   ]
  },
  {
   "cell_type": "markdown",
   "metadata": {},
   "source": [
    "##### Find the mean for each column\n",
    "\n",
    "The mean vector is often referred to as the centroid and the variance-covariance matrix as the dispersion or dispersion matrix. \n",
    "\n",
    "The mean vector consists of the means of each variable."
   ]
  },
  {
   "cell_type": "code",
   "execution_count": 46,
   "metadata": {},
   "outputs": [],
   "source": [
    "import numpy as np\n",
    "\n",
    "mean_vec = np.mean(x_std, axis = 0)"
   ]
  },
  {
   "cell_type": "markdown",
   "metadata": {},
   "source": [
    "# 2. Computing the Covariance Matrix"
   ]
  },
  {
   "cell_type": "markdown",
   "metadata": {},
   "source": [
    "##### Find the covariance among variables\n",
    "\n",
    "The variance-covariance matrix consists of the variances of the variables along the main diagonal and the covariances between each pair of variables in the other matrix positions. Covariance Matrix: it is a symmetric, dxd matrix (where d is the number of features)\n",
    "\n",
    "The diagonal entries of the covariance matrix are the variances and the other entries are the covariances. For this reason, the covariance matrix is sometimes called the _variance-covariance matrix_."
   ]
  },
  {
   "cell_type": "code",
   "execution_count": 47,
   "metadata": {},
   "outputs": [],
   "source": [
    "cov_mat = (x_std - mean_vec).T.dot((x_std - mean_vec))/ (x_std.shape[0]-1)"
   ]
  },
  {
   "cell_type": "code",
   "execution_count": 48,
   "metadata": {},
   "outputs": [
    {
     "name": "stdout",
     "output_type": "stream",
     "text": [
      "[[ 1.0006854   0.01992535 -0.00338295 ... -0.02160409  0.00267991\n",
      "   0.00667633]\n",
      " [ 0.01992535  1.0006854   0.23801249 ...  0.04081362  0.01486244\n",
      "  -0.0779224 ]\n",
      " [-0.00338295  0.23801249  1.0006854  ...  0.0048497  -0.0018367\n",
      "  -0.03100398]\n",
      " ...\n",
      " [-0.02160409  0.04081362  0.0048497  ...  1.0006854  -0.03026477\n",
      "  -0.71150659]\n",
      " [ 0.00267991  0.01486244 -0.0018367  ... -0.03026477  1.0006854\n",
      "  -0.1785926 ]\n",
      " [ 0.00667633 -0.0779224  -0.03100398 ... -0.71150659 -0.1785926\n",
      "   1.0006854 ]]\n"
     ]
    }
   ],
   "source": [
    "print(cov_mat)"
   ]
  },
  {
   "cell_type": "markdown",
   "metadata": {},
   "source": [
    "# 3. Computing eigenvectors and corresponding eigenvalues"
   ]
  },
  {
   "cell_type": "markdown",
   "metadata": {},
   "source": [
    "##### Find eigenvalues and eigenvectors"
   ]
  },
  {
   "cell_type": "code",
   "execution_count": 49,
   "metadata": {},
   "outputs": [],
   "source": [
    "eig_vals, eig_vecs = np.linalg.eig(cov_mat)"
   ]
  },
  {
   "cell_type": "code",
   "execution_count": 50,
   "metadata": {},
   "outputs": [
    {
     "name": "stdout",
     "output_type": "stream",
     "text": [
      "[[-9.17856379e-04+0.00000000e+00j -1.24882294e-03+0.00000000e+00j\n",
      "  -3.11131613e-03+0.00000000e+00j ...  1.36956374e-17-7.63623297e-17j\n",
      "   1.36956374e-17+7.63623297e-17j -2.60020747e-17+0.00000000e+00j]\n",
      " [-2.29183987e-02+0.00000000e+00j  3.18703150e-02+0.00000000e+00j\n",
      "  -2.52766602e-01+0.00000000e+00j ... -3.78932514e-15+3.01426656e-15j\n",
      "  -3.78932514e-15-3.01426656e-15j  5.56956483e-15+0.00000000e+00j]\n",
      " [ 8.10062083e-02+0.00000000e+00j -8.40341039e-02+0.00000000e+00j\n",
      "  -1.85091166e-01+0.00000000e+00j ...  6.74291748e-16-2.84456139e-16j\n",
      "   6.74291748e-16+2.84456139e-16j -1.11192609e-15+0.00000000e+00j]\n",
      " ...\n",
      " [-5.86509052e-02+0.00000000e+00j -7.04276675e-02+0.00000000e+00j\n",
      "  -2.23056750e-02+0.00000000e+00j ... -1.47690999e-02+1.34285837e-02j\n",
      "  -1.47690999e-02-1.34285837e-02j  2.76426867e-02+0.00000000e+00j]\n",
      " [-1.60999385e-02+0.00000000e+00j -2.31280269e-02+0.00000000e+00j\n",
      "   5.46989922e-03+0.00000000e+00j ... -3.33263419e-03+2.32569288e-03j\n",
      "  -3.33263419e-03-2.32569288e-03j  7.24831929e-03+0.00000000e+00j]\n",
      " [ 7.34946704e-02+0.00000000e+00j  1.11710198e-01+0.00000000e+00j\n",
      "   4.85313410e-02+0.00000000e+00j ... -1.15926655e-02+4.11709022e-03j\n",
      "  -1.15926655e-02-4.11709022e-03j  3.09139191e-02+0.00000000e+00j]]\n"
     ]
    }
   ],
   "source": [
    "print(eig_vecs)"
   ]
  },
  {
   "cell_type": "code",
   "execution_count": 51,
   "metadata": {},
   "outputs": [
    {
     "name": "stdout",
     "output_type": "stream",
     "text": [
      "[ 1.48104586e+01+0.00000000e+00j  7.24266808e+00+0.00000000e+00j\n",
      "  6.23687284e+00+0.00000000e+00j  5.23636512e+00+0.00000000e+00j\n",
      "  4.00179519e+00+0.00000000e+00j  3.95022252e+00+0.00000000e+00j\n",
      "  3.75805049e+00+0.00000000e+00j  3.41623854e+00+0.00000000e+00j\n",
      "  3.35409530e+00+0.00000000e+00j  3.17338064e+00+0.00000000e+00j\n",
      "  2.98522832e+00+0.00000000e+00j  2.82183989e+00+0.00000000e+00j\n",
      "  2.73619455e+00+0.00000000e+00j  2.64838958e+00+0.00000000e+00j\n",
      "  2.57700063e+00+0.00000000e+00j  2.47416361e+00+0.00000000e+00j\n",
      "  2.39208730e+00+0.00000000e+00j  2.38091795e+00+0.00000000e+00j\n",
      "  2.34191651e+00+0.00000000e+00j  2.23653347e+00+0.00000000e+00j\n",
      "  2.19686069e+00+0.00000000e+00j  2.17359399e+00+0.00000000e+00j\n",
      "  2.13010426e+00+0.00000000e+00j  2.11705845e+00+0.00000000e+00j\n",
      "  2.08764623e+00+0.00000000e+00j  2.04849947e+00+0.00000000e+00j\n",
      "  2.00782724e+00+0.00000000e+00j  1.99904615e+00+0.00000000e+00j\n",
      "  1.92347836e+00+0.00000000e+00j  1.90333427e+00+0.00000000e+00j\n",
      "  1.88226422e+00+0.00000000e+00j  1.87621277e+00+0.00000000e+00j\n",
      "  1.81740024e+00+0.00000000e+00j  1.79650424e+00+0.00000000e+00j\n",
      "  1.77583476e+00+0.00000000e+00j  1.73102887e+00+0.00000000e+00j\n",
      "  1.68288487e+00+0.00000000e+00j  1.66447834e+00+0.00000000e+00j\n",
      "  1.60908080e+00+0.00000000e+00j  1.59579763e+00+0.00000000e+00j\n",
      "  1.54828266e+00+0.00000000e+00j  1.53269685e+00+0.00000000e+00j\n",
      "  1.51275725e+00+0.00000000e+00j  1.50357424e+00+0.00000000e+00j\n",
      "  1.48152311e+00+0.00000000e+00j  1.46248484e+00+0.00000000e+00j\n",
      "  1.44287973e+00+0.00000000e+00j  1.43017775e+00+0.00000000e+00j\n",
      "  1.40949600e+00+0.00000000e+00j  1.40516567e+00+0.00000000e+00j\n",
      "  1.38197213e+00+0.00000000e+00j  1.36390454e+00+0.00000000e+00j\n",
      "  1.34142199e+00+0.00000000e+00j  1.29889575e+00+0.00000000e+00j\n",
      "  1.30392712e+00+0.00000000e+00j  1.33051514e+00+0.00000000e+00j\n",
      "  1.32703959e+00+0.00000000e+00j  1.27404123e+00+0.00000000e+00j\n",
      "  1.27494597e+00+0.00000000e+00j  1.25182119e+00+0.00000000e+00j\n",
      "  1.23812083e+00+0.00000000e+00j  1.21860882e+00+0.00000000e+00j\n",
      "  1.22420342e+00+0.00000000e+00j  1.20495104e+00+0.00000000e+00j\n",
      "  1.17149988e+00+0.00000000e+00j  1.16557852e+00+0.00000000e+00j\n",
      "  1.15572693e+00+0.00000000e+00j  1.14580638e+00+0.00000000e+00j\n",
      "  1.14024902e+00+0.00000000e+00j  1.12764960e+00+0.00000000e+00j\n",
      "  1.10849650e+00+0.00000000e+00j  1.10051271e+00+0.00000000e+00j\n",
      "  1.09107539e+00+0.00000000e+00j  1.08196973e+00+0.00000000e+00j\n",
      "  1.07667319e+00+0.00000000e+00j  1.06823350e+00+0.00000000e+00j\n",
      "  1.05818367e+00+0.00000000e+00j  1.01490451e+00+0.00000000e+00j\n",
      "  1.04715823e+00+0.00000000e+00j  1.04221220e+00+0.00000000e+00j\n",
      "  1.02939616e+00+0.00000000e+00j  1.03436928e+00+0.00000000e+00j\n",
      "  1.00249459e+00+0.00000000e+00j  9.91162801e-01+0.00000000e+00j\n",
      "  9.85198397e-01+0.00000000e+00j  9.78503917e-01+0.00000000e+00j\n",
      "  9.74571049e-01+0.00000000e+00j  9.59331194e-01+0.00000000e+00j\n",
      "  9.51565860e-01+0.00000000e+00j  9.37033567e-01+0.00000000e+00j\n",
      "  9.31623566e-01+0.00000000e+00j  9.22818507e-01+0.00000000e+00j\n",
      "  9.12158446e-01+0.00000000e+00j  8.95748093e-01+0.00000000e+00j\n",
      "  8.87969407e-01+0.00000000e+00j  8.82111336e-01+0.00000000e+00j\n",
      "  8.78069295e-01+0.00000000e+00j  8.59092004e-01+0.00000000e+00j\n",
      "  8.63740721e-01+0.00000000e+00j  1.01947381e-01+0.00000000e+00j\n",
      "  1.08194751e-01+0.00000000e+00j  1.24224050e-01+0.00000000e+00j\n",
      "  1.29458350e-01+0.00000000e+00j  1.51740019e-01+0.00000000e+00j\n",
      "  1.46054574e-01+0.00000000e+00j  1.61928266e-01+0.00000000e+00j\n",
      "  1.64655831e-01+0.00000000e+00j  1.71568563e-01+0.00000000e+00j\n",
      "  8.45188264e-01+0.00000000e+00j  8.39524720e-01+0.00000000e+00j\n",
      "  8.37811829e-01+0.00000000e+00j  1.86365882e-01+0.00000000e+00j\n",
      "  1.97402859e-01+0.00000000e+00j  2.27126411e-01+0.00000000e+00j\n",
      "  2.04681118e-01+0.00000000e+00j  2.10716934e-01+0.00000000e+00j\n",
      "  8.94417111e-02+0.00000000e+00j  6.02307848e-02+0.00000000e+00j\n",
      "  5.30561245e-02+0.00000000e+00j  8.23989156e-02+0.00000000e+00j\n",
      "  7.28027205e-02+0.00000000e+00j  7.45054360e-02+0.00000000e+00j\n",
      "  7.57351401e-02+0.00000000e+00j  8.07937723e-01+0.00000000e+00j\n",
      "  2.37238595e-01+0.00000000e+00j  2.31200609e-01+0.00000000e+00j\n",
      "  8.20820886e-01+0.00000000e+00j  8.03694187e-01+0.00000000e+00j\n",
      "  7.98579934e-01+0.00000000e+00j  3.60113759e-02+0.00000000e+00j\n",
      "  2.47678767e-01+0.00000000e+00j  7.77993765e-01+0.00000000e+00j\n",
      "  7.71381322e-01+0.00000000e+00j  7.65451950e-01+0.00000000e+00j\n",
      "  7.57420244e-01+0.00000000e+00j  2.98659329e-02+0.00000000e+00j\n",
      "  2.55928539e-01+0.00000000e+00j  2.64735706e-01+0.00000000e+00j\n",
      "  2.72638629e-01+0.00000000e+00j  2.76733767e-01+0.00000000e+00j\n",
      "  2.93443670e-01+0.00000000e+00j  2.98883434e-01+0.00000000e+00j\n",
      "  7.39430870e-01+0.00000000e+00j  7.02068092e-01+0.00000000e+00j\n",
      "  7.13885844e-01+0.00000000e+00j  7.34570065e-01+0.00000000e+00j\n",
      "  7.25236170e-01+0.00000000e+00j  3.28776658e-01+0.00000000e+00j\n",
      "  3.12460839e-01+0.00000000e+00j  7.51755709e-01+0.00000000e+00j\n",
      "  6.73269512e-01+0.00000000e+00j  3.68675343e-01+0.00000000e+00j\n",
      "  3.62940023e-01+0.00000000e+00j  3.42319672e-01+0.00000000e+00j\n",
      "  4.01187553e-01+0.00000000e+00j  3.84949115e-01+0.00000000e+00j\n",
      "  3.89001797e-01+0.00000000e+00j  3.46145531e-01+0.00000000e+00j\n",
      "  1.51427443e-02+0.00000000e+00j  2.14094323e-02+0.00000000e+00j\n",
      "  6.80618430e-01+0.00000000e+00j  3.15741148e-01+0.00000000e+00j\n",
      "  6.54379393e-01+0.00000000e+00j  6.44803764e-01+0.00000000e+00j\n",
      "  6.22028218e-01+0.00000000e+00j  6.04884208e-01+0.00000000e+00j\n",
      "  5.95983540e-01+0.00000000e+00j  3.49268235e-01+0.00000000e+00j\n",
      "  4.11718632e-01+0.00000000e+00j  4.33001312e-01+0.00000000e+00j\n",
      "  4.68635396e-01+0.00000000e+00j  4.59075650e-01+0.00000000e+00j\n",
      "  4.82082136e-01+0.00000000e+00j  4.94584074e-01+0.00000000e+00j\n",
      "  4.50673677e-01+0.00000000e+00j  4.43466020e-01+0.00000000e+00j\n",
      "  6.82836884e-01+0.00000000e+00j  5.72754021e-01+0.00000000e+00j\n",
      "  4.46713798e-01+0.00000000e+00j  7.29098344e-01+0.00000000e+00j\n",
      "  5.79615421e-01+0.00000000e+00j  5.48482025e-01+0.00000000e+00j\n",
      "  5.04634147e-01+0.00000000e+00j  6.11682620e-01+0.00000000e+00j\n",
      "  1.89998927e-02+0.00000000e+00j  1.58854894e-02+0.00000000e+00j\n",
      "  6.39883252e-01+0.00000000e+00j  4.10418877e-01+0.00000000e+00j\n",
      "  5.35732983e-01+0.00000000e+00j  5.25032038e-01+0.00000000e+00j\n",
      "  5.12651732e-01+0.00000000e+00j  5.18645608e-01+0.00000000e+00j\n",
      "  5.56442923e-01+0.00000000e+00j  5.60267739e-01+0.00000000e+00j\n",
      "  3.16080075e-01+0.00000000e+00j  6.51796361e-01+0.00000000e+00j\n",
      "  6.15488071e-01+0.00000000e+00j  5.07609279e-01+0.00000000e+00j\n",
      "  5.77721037e-01+0.00000000e+00j  2.65785469e-04+0.00000000e+00j\n",
      " -6.10404053e-15+0.00000000e+00j -7.30339888e-15+0.00000000e+00j\n",
      "  5.94853109e-15+0.00000000e+00j -4.15672912e-15+0.00000000e+00j\n",
      "  3.78139271e-15+0.00000000e+00j -3.28413529e-15+0.00000000e+00j\n",
      "  2.98585625e-15+0.00000000e+00j  2.68259448e-15+0.00000000e+00j\n",
      "  2.50832001e-15+0.00000000e+00j -2.80467611e-15+0.00000000e+00j\n",
      "  1.86800302e-15+0.00000000e+00j -2.33648927e-15+0.00000000e+00j\n",
      " -2.23412595e-15+0.00000000e+00j  1.45760188e-15+0.00000000e+00j\n",
      " -1.87639985e-15+0.00000000e+00j -1.46375044e-15+0.00000000e+00j\n",
      " -1.14374670e-15+0.00000000e+00j -1.08501782e-15+0.00000000e+00j\n",
      "  7.61136674e-16+0.00000000e+00j -6.96159249e-16+0.00000000e+00j\n",
      "  3.76541789e-16+5.32128952e-17j  3.76541789e-16-5.32128952e-17j\n",
      " -4.51884099e-16+0.00000000e+00j -2.00722797e-16+0.00000000e+00j\n",
      "  6.48576414e-17+0.00000000e+00j -1.34035062e-16+0.00000000e+00j\n",
      " -3.23620979e-17+7.26179420e-17j -3.23620979e-17-7.26179420e-17j\n",
      " -3.00971811e-17+0.00000000e+00j]\n"
     ]
    }
   ],
   "source": [
    "print(eig_vals)"
   ]
  },
  {
   "cell_type": "markdown",
   "metadata": {},
   "source": [
    "If eigen value is high for eigen vector that means vector has a lot of variance."
   ]
  },
  {
   "cell_type": "markdown",
   "metadata": {},
   "source": [
    "# 4.Sorting the eigenvectors by decreasing eigenvalues"
   ]
  },
  {
   "cell_type": "code",
   "execution_count": 52,
   "metadata": {},
   "outputs": [
    {
     "name": "stdout",
     "output_type": "stream",
     "text": [
      "Eigenvalues in descending order:\n",
      "14.81045855157065\n",
      "7.242668084484282\n",
      "6.236872843651717\n",
      "5.236365122826523\n",
      "4.001795194279797\n",
      "3.9502225162730857\n",
      "3.7580504881491836\n",
      "3.416238535546677\n",
      "3.3540953015516775\n",
      "3.1733806417071295\n",
      "2.985228315329095\n",
      "2.8218398861169502\n",
      "2.736194554877191\n",
      "2.6483895770329635\n",
      "2.5770006316445855\n",
      "2.474163608038213\n",
      "2.3920873023182088\n",
      "2.3809179476275184\n",
      "2.341916507780576\n",
      "2.23653346702873\n",
      "2.1968606899089957\n",
      "2.173593987823785\n",
      "2.130104260289135\n",
      "2.117058454247549\n",
      "2.087646228478544\n",
      "2.0484994727200103\n",
      "2.007827236881747\n",
      "1.9990461509071378\n",
      "1.923478355790852\n",
      "1.903334272078964\n",
      "1.8822642216284664\n",
      "1.8762127658381111\n",
      "1.8174002445872512\n",
      "1.7965042371619866\n",
      "1.7758347615759595\n",
      "1.7310288667688656\n",
      "1.6828848703263637\n",
      "1.6644783385099418\n",
      "1.609080799735281\n",
      "1.5957976256545108\n",
      "1.5482826575703326\n",
      "1.532696846300201\n",
      "1.512757253573149\n",
      "1.5035742375149377\n",
      "1.4815231126370876\n",
      "1.462484844541481\n",
      "1.4428797317069382\n",
      "1.4301777489241645\n",
      "1.4094960010329678\n",
      "1.4051656718101302\n",
      "1.3819721314865907\n",
      "1.3639045429624148\n",
      "1.341421994700487\n",
      "1.3305151360504364\n",
      "1.3270395904679717\n",
      "1.3039271192834845\n",
      "1.2988957465275794\n",
      "1.2749459706174442\n",
      "1.2740412327880741\n",
      "1.2518211880866723\n",
      "1.2381208277051774\n",
      "1.224203424530378\n",
      "1.2186088158222987\n",
      "1.204951041616877\n",
      "1.1714998787595452\n",
      "1.165578523100159\n",
      "1.1557269307658584\n",
      "1.1458063776314968\n",
      "1.140249017211609\n",
      "1.1276495976381071\n",
      "1.1084965031045853\n",
      "1.1005127149155256\n",
      "1.0910753940885185\n",
      "1.0819697285480259\n",
      "1.0766731921882344\n",
      "1.0682334974623586\n",
      "1.0581836702160836\n",
      "1.047158229048485\n",
      "1.0422122046306341\n",
      "1.0343692758965513\n",
      "1.0293961628064148\n",
      "1.0149045132475414\n",
      "1.0024945876527234\n",
      "0.9911628011367202\n",
      "0.9851983974934587\n",
      "0.9785039172645202\n",
      "0.9745710488463818\n",
      "0.9593311943170462\n",
      "0.9515658601232533\n",
      "0.937033567411899\n",
      "0.9316235658228332\n",
      "0.9228185065943361\n",
      "0.9121584456804613\n",
      "0.8957480934644081\n",
      "0.8879694066775058\n",
      "0.8821113361872748\n",
      "0.8780692945144998\n",
      "0.8637407211544225\n",
      "0.859092003938799\n",
      "0.8451882644880503\n",
      "0.8395247199936207\n",
      "0.8378118286371321\n",
      "0.8208208862792559\n",
      "0.8079377232190293\n",
      "0.8036941868110099\n",
      "0.7985799340273257\n",
      "0.7779937645701988\n",
      "0.7713813221656062\n",
      "0.7654519502759979\n",
      "0.757420244402218\n",
      "0.7517557093610768\n",
      "0.7394308695344936\n",
      "0.7345700652769444\n",
      "0.7290983439613683\n",
      "0.7252361696592726\n",
      "0.7138858435252162\n",
      "0.7020680917625544\n",
      "0.682836884173912\n",
      "0.6806184302942097\n",
      "0.6732695122418236\n",
      "0.6543793925062891\n",
      "0.6517963614050829\n",
      "0.644803763912415\n",
      "0.6398832518830806\n",
      "0.6220282177757283\n",
      "0.6154880712265299\n",
      "0.6116826198611762\n",
      "0.6048842082113908\n",
      "0.5959835403126779\n",
      "0.5796154209941978\n",
      "0.5777210368662554\n",
      "0.5727540210905617\n",
      "0.5602677385877413\n",
      "0.5564429225395373\n",
      "0.5484820252343825\n",
      "0.5357329827611151\n",
      "0.5250320379254382\n",
      "0.5186456078188747\n",
      "0.5126517320496868\n",
      "0.5076092789348287\n",
      "0.5046341471851329\n",
      "0.4945840740259486\n",
      "0.4820821364205653\n",
      "0.46863539620469463\n",
      "0.45907565002103956\n",
      "0.45067367736081243\n",
      "0.4467137975738739\n",
      "0.4434660198166385\n",
      "0.43300131190673474\n",
      "0.4117186322298181\n",
      "0.4104188772036814\n",
      "0.4011875525444257\n",
      "0.38900179650321304\n",
      "0.38494911539763027\n",
      "0.36867534263371776\n",
      "0.3629400229204158\n",
      "0.34926823506432414\n",
      "0.3461455314283504\n",
      "0.34231967159118437\n",
      "0.3287766576542592\n",
      "0.316080075014901\n",
      "0.3157411479816133\n",
      "0.31246083923980156\n",
      "0.2988834341540873\n",
      "0.293443669854046\n",
      "0.276733767082096\n",
      "0.27263862852111154\n",
      "0.26473570607366054\n",
      "0.25592853941635985\n",
      "0.24767876716955822\n",
      "0.23723859474743098\n",
      "0.23120060884338658\n",
      "0.2271264109598394\n",
      "0.21071693381397058\n",
      "0.20468111789773474\n",
      "0.19740285903992855\n",
      "0.18636588240934943\n",
      "0.1715685627366944\n",
      "0.164655831021992\n",
      "0.16192826580415737\n",
      "0.15174001877579452\n",
      "0.14605457362603724\n",
      "0.12945834962616476\n",
      "0.12422404968362409\n",
      "0.10819475066611928\n",
      "0.10194738123145695\n",
      "0.08944171113250204\n",
      "0.08239891555909012\n",
      "0.07573514011135322\n",
      "0.07450543599572378\n",
      "0.07280272051651664\n",
      "0.060230784803574695\n",
      "0.05305612450269955\n",
      "0.03601137589814385\n",
      "0.029865932889033157\n",
      "0.021409432287920815\n",
      "0.01899989270981811\n",
      "0.01588548938427055\n",
      "0.015142744299475673\n",
      "0.00026578546935781937\n",
      "7.303398882988107e-15\n",
      "6.104040533594603e-15\n",
      "5.94853108579671e-15\n",
      "4.156729116018038e-15\n",
      "3.781392709010623e-15\n",
      "3.2841352869849214e-15\n",
      "2.9858562545758633e-15\n",
      "2.8046761104473657e-15\n",
      "2.6825944774811025e-15\n",
      "2.508320009854097e-15\n",
      "2.336489269778828e-15\n",
      "2.234125950978663e-15\n",
      "1.876399847229477e-15\n",
      "1.86800302401129e-15\n",
      "1.4637504425180624e-15\n",
      "1.4576018791007717e-15\n",
      "1.1437466989186659e-15\n",
      "1.0850178174136476e-15\n",
      "7.61136673745474e-16\n",
      "6.961592491006146e-16\n",
      "4.518840990703891e-16\n",
      "3.8028322452166665e-16\n",
      "3.8028322452166665e-16\n",
      "2.0072279691162814e-16\n",
      "1.340350621990199e-16\n",
      "7.950264702414407e-17\n",
      "7.950264702414407e-17\n",
      "6.485764140820538e-17\n",
      "3.009718112856104e-17\n"
     ]
    }
   ],
   "source": [
    "# Make a list of (eigenvalue, eigenvectors) tuples\n",
    "eig_pairs = [[np.abs(eig_vals[i]), eig_vecs[:,i]] for i in range(len(eig_vals))]\n",
    "\n",
    "# Sort the (eigenvalue, eigenvector) tuples from high to low\n",
    "eig_pairs.sort(key=lambda x: x[0], reverse=True)\n",
    "\n",
    "# Visually confirm that the list is correctly sorted by decreasing eigenvalues\n",
    "print(\"Eigenvalues in descending order:\")\n",
    "for i in eig_pairs:\n",
    "    print(i[0])"
   ]
  },
  {
   "cell_type": "markdown",
   "metadata": {},
   "source": [
    "All the eigen values are sorted in an descending order."
   ]
  },
  {
   "cell_type": "markdown",
   "metadata": {},
   "source": [
    "# 5. Select components based on eigen values"
   ]
  },
  {
   "cell_type": "markdown",
   "metadata": {},
   "source": [
    "we have 229 components from which we have to select components based on eigen value which has high value.\n",
    "\n",
    "Here, filter out eigen values which has above 0.5"
   ]
  },
  {
   "cell_type": "code",
   "execution_count": 53,
   "metadata": {},
   "outputs": [
    {
     "name": "stdout",
     "output_type": "stream",
     "text": [
      "Number of components:141\n"
     ]
    }
   ],
   "source": [
    "pairs = np.array(eig_pairs)\n",
    "count = 0\n",
    "components = []\n",
    "\n",
    "for i in range(len(eig_pairs)):\n",
    "    if eig_pairs[i][0]>0.5:\n",
    "        count += 1\n",
    "        components.append(pairs[i])\n",
    "        \n",
    "print(\"Number of components:\" + str(count))   \n"
   ]
  },
  {
   "cell_type": "markdown",
   "metadata": {},
   "source": [
    "When we select eigen value as 0.5 or above 0.5, we get 141 components. 0.5 is not a threshold eigen value. we use this value to check the percentage of information the selected components carry. if the selected components gives  less information, we select more components and this can be achieved by setting eigen value below 0.5."
   ]
  },
  {
   "cell_type": "markdown",
   "metadata": {},
   "source": [
    "### Let's check how much information the selected components contains."
   ]
  },
  {
   "cell_type": "code",
   "execution_count": 54,
   "metadata": {},
   "outputs": [],
   "source": [
    "#Calculate Explained Variance\n",
    "total = 0\n",
    "ein = []\n",
    "for i in range(len(components)):\n",
    "    total += components[i][0]\n",
    "    ein.append(components[i][0])\n",
    "    \n",
    "#divide eigen value by total eigen value and then multiple with 100 for the selected components     \n",
    "var_exp = [(i/ sum(eig_vals))*100 for i in sorted(ein, reverse=True)]\n",
    "cum_var_exp = np.cumsum(var_exp)"
   ]
  },
  {
   "cell_type": "code",
   "execution_count": 55,
   "metadata": {},
   "outputs": [
    {
     "data": {
      "text/plain": [
       "array([ 6.46301939+0.j,  9.62359029+0.j, 12.34525012+0.j, 14.63030626+0.j,\n",
       "       16.37661816+0.j, 18.10042466+0.j, 19.74037072+0.j, 21.23115615+0.j,\n",
       "       22.69482339+0.j, 24.07962998+0.j, 25.38233026+0.j, 26.61373075+0.j,\n",
       "       27.80775715+0.j, 28.96346702+0.j, 30.08802403+0.j, 31.16770481+0.j,\n",
       "       32.21156895+0.j, 33.25055899+0.j, 34.27252949+0.j, 35.24851272+0.j,\n",
       "       36.20718346+0.j, 37.15570103+0.j, 38.08524045+0.j, 39.00908692+0.j,\n",
       "       39.92009842+0.j, 40.81402697+0.j, 41.69020689+0.j, 42.5625549 +0.j,\n",
       "       43.40192648+0.j, 44.23250753+0.j, 45.053894  +0.j, 45.87263971+0.j,\n",
       "       46.66572069+0.j, 47.44968303+0.j, 48.22462558+0.j, 48.98001564+0.j,\n",
       "       49.71439651+0.j, 50.44074511+0.j, 51.14291921+0.j, 51.83929677+0.j,\n",
       "       52.51493965+0.j, 53.18378116+0.j, 53.84392138+0.j, 54.50005431+0.j,\n",
       "       55.14656451+0.j, 55.78476676+0.j, 56.41441368+0.j, 57.03851769+0.j,\n",
       "       57.65359655+0.j, 58.26678573+0.j, 58.86985367+0.j, 59.46503723+0.j,\n",
       "       60.05040982+0.j, 60.63102284+0.j, 61.2101192 +0.j, 61.77912969+0.j,\n",
       "       62.34594457+0.j, 62.90230821+0.j, 63.45827703+0.j, 64.00454942+0.j,\n",
       "       64.54484322+0.j, 65.07906371+0.j, 65.61084282+0.j, 66.13666192+0.j,\n",
       "       66.64788352+0.j, 67.15652116+0.j, 67.66085973+0.j, 68.16086915+0.j,\n",
       "       68.65845345+0.j, 69.15053957+0.j, 69.63426763+0.j, 70.11451171+0.j,\n",
       "       70.59063751+0.j, 71.06278976+0.j, 71.5326307 +0.j, 71.9987887 +0.j,\n",
       "       72.46056114+0.j, 72.91752228+0.j, 73.37232506+0.j, 73.82370532+0.j,\n",
       "       74.27291541+0.j, 74.71580159+0.j, 75.15327231+0.j, 75.58579804+0.j,\n",
       "       76.01572102+0.j, 76.44272264+0.j, 76.86800802+0.j, 77.28664301+0.j,\n",
       "       77.70188934+0.j, 78.11079404+0.j, 78.51733791+0.j, 78.92003942+0.j,\n",
       "       79.31808906+0.j, 79.70897751+0.j, 80.09647149+0.j, 80.48140911+0.j,\n",
       "       80.86458286+0.j, 81.24150387+0.j, 81.61639626+0.j, 81.98522132+0.j,\n",
       "       82.3515749 +0.j, 82.71718101+0.j, 83.07537257+0.j, 83.42794215+0.j,\n",
       "       83.77865993+0.j, 84.12714594+0.j, 84.46664851+0.j, 84.80326553+0.j,\n",
       "       85.13729508+0.j, 85.46781974+0.j, 85.79587249+0.j, 86.11854691+0.j,\n",
       "       86.43910015+0.j, 86.75726564+0.j, 87.07374574+0.j, 87.38527276+0.j,\n",
       "       87.69164273+0.j, 87.98962054+0.j, 88.28663026+0.j, 88.58043304+0.j,\n",
       "       88.86599251+0.j, 89.15042479+0.j, 89.43180563+0.j, 89.71103924+0.j,\n",
       "       89.98248124+0.j, 90.25106923+0.j, 90.51799659+0.j, 90.78195725+0.j,\n",
       "       91.04203382+0.j, 91.29496763+0.j, 91.54707476+0.j, 91.79701438+0.j,\n",
       "       92.0415052 +0.j, 92.28432695+0.j, 92.5236747 +0.j, 92.757459  +0.j,\n",
       "       92.9865736 +0.j, 93.21290127+0.j, 93.43661332+0.j, 93.65812494+0.j,\n",
       "       93.87833826+0.j])"
      ]
     },
     "execution_count": 55,
     "metadata": {},
     "output_type": "execute_result"
    }
   ],
   "source": [
    "cum_var_exp"
   ]
  },
  {
   "cell_type": "markdown",
   "metadata": {},
   "source": [
    "We can notice that 141 components has 93.8% information among all components.\n",
    "\n",
    "When we select 141 components we lose 6.2% information."
   ]
  },
  {
   "cell_type": "markdown",
   "metadata": {},
   "source": [
    "# 6. Select components based on scree plot"
   ]
  },
  {
   "cell_type": "code",
   "execution_count": 56,
   "metadata": {
    "scrolled": true
   },
   "outputs": [
    {
     "data": {
      "image/png": "[encoded data removed]",
      "text/plain": [
       "<Figure size 576x360 with 1 Axes>"
      ]
     },
     "metadata": {
      "needs_background": "light"
     },
     "output_type": "display_data"
    }
   ],
   "source": [
    "#import numpy as np\n",
    "#import matplotlib\n",
    "#import matplotlib.pyplot as plt\n",
    "\n",
    "#Make a random array and then make it positive-definite\n",
    "num_vars = len(eig_vals)\n",
    "num_obs = 9\n",
    "\n",
    "fig = plt.figure(figsize=(8,5))\n",
    "sing_vals = np.arange(num_vars) + 1 \n",
    "plt.plot(sing_vals, eig_vals, \"ro-\", linewidth=1)\n",
    "\n",
    "plt.title(\"Scree Plot\")\n",
    "plt.xlabel(\"Principal Components\")\n",
    "plt.ylabel(\"Eigenvalue\")\n",
    "plt.xlim(0,230)\n",
    "plt.show()"
   ]
  },
  {
   "cell_type": "markdown",
   "metadata": {},
   "source": [
    "Scree Plot shows eigen value for each components. starting components has high value and in middle, some component has higher than others. What can we do using scree plot ? We can select components based scree plot. If we select 150 components based on scree plot, we have to check how much information has the selected components.\n",
    "\n",
    "The following plot to shows percentage of variance explained by each of the selected components."
   ]
  },
  {
   "cell_type": "code",
   "execution_count": 57,
   "metadata": {},
   "outputs": [],
   "source": [
    "#Calculate Explained Variance\n",
    "total = sum(eig_vals)\n",
    "\n",
    "#Divide eigen value by total eigen value and then multiple with 100 for the selected components\n",
    "var_exp = [(i / total)*100 for i in sorted(eig_vals, reverse = True)]\n",
    "cum_var_exp = np.cumsum(var_exp)"
   ]
  },
  {
   "cell_type": "code",
   "execution_count": 58,
   "metadata": {},
   "outputs": [
    {
     "data": {
      "image/png": "[encoded data removed]",
      "text/plain": [
       "<Figure size 432x288 with 1 Axes>"
      ]
     },
     "metadata": {
      "needs_background": "light"
     },
     "output_type": "display_data"
    }
   ],
   "source": [
    "plt.figure()\n",
    "plt.scatter([150], [cum_var_exp[150]], color='g')\n",
    "plt.plot(cum_var_exp)\n",
    "plt.xlabel(\"Principal Components\")\n",
    "plt.ylabel(\"Variance (%)\") #for each components\n",
    "plt.title(\"Dataset Explained Variance\")\n",
    "plt.show()"
   ]
  },
  {
   "cell_type": "markdown",
   "metadata": {},
   "source": [
    "From the above plot, we can observe that the variance remains constant after the number of components reaches 150"
   ]
  },
  {
   "cell_type": "code",
   "execution_count": 59,
   "metadata": {},
   "outputs": [
    {
     "data": {
      "text/plain": [
       "(95.84221910217515+0j)"
      ]
     },
     "execution_count": 59,
     "metadata": {},
     "output_type": "execute_result"
    }
   ],
   "source": [
    "cum_var_exp[150]"
   ]
  },
  {
   "cell_type": "markdown",
   "metadata": {},
   "source": [
    "From the above result, We can see that the selected 150 components has 96% information. Here we lose 4% information. We have to select less component than original variable, at the same time, the selected component must contain as much as information."
   ]
  },
  {
   "cell_type": "markdown",
   "metadata": {},
   "source": [
    "# 7. Deriving the new Data Set"
   ]
  },
  {
   "cell_type": "markdown",
   "metadata": {},
   "source": [
    "##### Finally, We select only 150 components. Filter out eigen vector of the selected components."
   ]
  },
  {
   "cell_type": "code",
   "execution_count": 60,
   "metadata": {},
   "outputs": [],
   "source": [
    "N = 229\n",
    "M = 150\n",
    "\n",
    "a = np.ndarray(shape = (N, 0))\n",
    "for i in range(M):\n",
    "    b = eig_pairs[i][1].reshape(N,1)\n",
    "    a = np.hstack((a,b))"
   ]
  },
  {
   "cell_type": "markdown",
   "metadata": {},
   "source": [
    "### Perform matrix calculation of original dataset with eigen vector of the selected components."
   ]
  },
  {
   "cell_type": "code",
   "execution_count": 61,
   "metadata": {},
   "outputs": [
    {
     "data": {
      "text/plain": [
       "array([[-0.00091786+0.j, -0.00124882+0.j, -0.00311132+0.j, ...,\n",
       "        -0.04737578+0.j, -0.01984383+0.j, -0.03907232+0.j],\n",
       "       [-0.0229184 +0.j,  0.03187032+0.j, -0.2527666 +0.j, ...,\n",
       "         0.10177794+0.j, -0.00084618+0.j, -0.0109117 +0.j],\n",
       "       [ 0.08100621+0.j, -0.0840341 +0.j, -0.18509117+0.j, ...,\n",
       "         0.00117074+0.j, -0.03951735+0.j,  0.12363688+0.j],\n",
       "       ...,\n",
       "       [-0.05865091+0.j, -0.07042767+0.j, -0.02230567+0.j, ...,\n",
       "        -0.01029324+0.j, -0.01732139+0.j,  0.04205054+0.j],\n",
       "       [-0.01609994+0.j, -0.02312803+0.j,  0.0054699 +0.j, ...,\n",
       "        -0.01144344+0.j, -0.00333548+0.j,  0.02706349+0.j],\n",
       "       [ 0.07349467+0.j,  0.1117102 +0.j,  0.04853134+0.j, ...,\n",
       "         0.00741008+0.j,  0.00965227+0.j, -0.0232443 +0.j]])"
      ]
     },
     "execution_count": 61,
     "metadata": {},
     "output_type": "execute_result"
    }
   ],
   "source": [
    "a"
   ]
  },
  {
   "cell_type": "code",
   "execution_count": 62,
   "metadata": {},
   "outputs": [],
   "source": [
    "# Projection onto the new feature space\n",
    "Y = x_std.dot(a)"
   ]
  },
  {
   "cell_type": "code",
   "execution_count": 64,
   "metadata": {},
   "outputs": [
    {
     "data": {
      "text/plain": [
       "array([[ 3.37881956+0.j,  0.83126798+0.j,  0.14126206+0.j, ...,\n",
       "         0.05264885+0.j, -0.11488625+0.j,  0.0546108 +0.j],\n",
       "       [-0.49014982+0.j, -2.54440034+0.j,  0.55360824+0.j, ...,\n",
       "        -1.50686946+0.j,  0.13730069+0.j, -0.49557642+0.j],\n",
       "       [ 3.70006074+0.j,  0.46216915+0.j, -0.10774618+0.j, ...,\n",
       "        -0.26513806+0.j, -0.21907631+0.j,  0.12865672+0.j],\n",
       "       ...,\n",
       "       [-0.19576961+0.j,  1.05012274+0.j, -3.96173083+0.j, ...,\n",
       "        -0.30930739+0.j,  0.54681933+0.j,  0.34200916+0.j],\n",
       "       [-3.03068159+0.j, -2.58873065+0.j,  1.93282496+0.j, ...,\n",
       "         0.67055862+0.j,  0.09255241+0.j,  0.70546917+0.j],\n",
       "       [-0.99253283+0.j, -3.15321751+0.j,  1.10195506+0.j, ...,\n",
       "         0.9994003 +0.j,  0.12780606+0.j, -0.40775836+0.j]])"
      ]
     },
     "execution_count": 64,
     "metadata": {},
     "output_type": "execute_result"
    }
   ],
   "source": [
    "Y"
   ]
  },
  {
   "cell_type": "code",
   "execution_count": 63,
   "metadata": {},
   "outputs": [
    {
     "data": {
      "text/plain": [
       "(1460, 150)"
      ]
     },
     "execution_count": 63,
     "metadata": {},
     "output_type": "execute_result"
    }
   ],
   "source": [
    "Y.shape"
   ]
  },
  {
   "cell_type": "markdown",
   "metadata": {},
   "source": [
    "We reduced the number of columns from 221 to 150."
   ]
  },
  {
   "cell_type": "code",
   "execution_count": null,
   "metadata": {},
   "outputs": [],
   "source": []
  }
 ],
 "metadata": {
  "kernelspec": {
   "display_name": "Python 3",
   "language": "python",
   "name": "python3"
  },
  "language_info": {
   "codemirror_mode": {
    "name": "ipython",
    "version": 3
   },
   "file_extension": ".py",
   "mimetype": "text/x-python",
   "name": "python",
   "nbconvert_exporter": "python",
   "pygments_lexer": "ipython3",
   "version": "3.8.1"
  }
 },
 "nbformat": 4,
 "nbformat_minor": 4
}
